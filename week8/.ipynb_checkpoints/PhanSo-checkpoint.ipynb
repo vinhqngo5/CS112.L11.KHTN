{
 "cells": [
  {
   "cell_type": "markdown",
   "metadata": {},
   "source": [
    "<h1>NHÓM 11</h1>\n",
    "<h2>ĐỀ BÀI: PHÂN SỐ</h2>\n",
    "<br>\n",
    "Cho 2 phân số đúng và tối giản $\\frac{a}{b}$, $\\frac{c}{d}$. Mỗi phép biến đổi là tăng a và b lên 1, sau đó giản ước phân số nhận được.\n",
    "\n",
    "Hãy xác định sau bao nhiêu bước biến đổi từ phân số thứ nhất ban đầu nhận được phân số thứ 2 đã cho.\n",
    "\n",
    "<b>Dữ liệu:</b> Vào từ thiết bị nhập chuẩn gồm 4 dòng, mỗi dòng chứa 1 số nguyên a, b, c, d, $0 < a < b ≤ 10^{5}$, $0 < c < d ≤ 10^{5}$, a và b nguyên tố cùng nhau, c và d nguyên tố cùng nhau $\\frac{a}{b}$ ≠ $\\frac{c}{d}$\n",
    "\n",
    "<b>Kết quả</b>: Đưa ra thiết bị xuất chuẩn số 0 nếu không có cách biến đổi hoặc một số nguyên – số lượng phép biến đổi\n",
    "\n",
    "<b>Ví dụ:</b>\n",
    "\n",
    "\n",
    "|         Input         |        Output       | \n",
    "|-----------------------|---------------------|\n",
    "|  1    6    2    3     |          5          |\n",
    "\n",
    "\n",
    "<h2>1. Abstraction</h2>\n",
    "<br>\n",
    "Đây là bài toán tối giản và so sánh hai phân số một cách đơn giản. Mỗi lần tăng tử và mẫu của phân số $\\frac{a}{b}$ lên một đơn vị, ta sẽ tối giản phân số $\\frac{a}{b}$, sau đó so sánh với phân số $\\frac{c}{d}$ bằng cách: $a.d = b.c$ $\\rightarrow$ xuất ra số lần tăng $\\rightarrow$ đáp số\n",
    "\n",
    "<h2>2. Algorithm Design</h2>\n",
    "<br>\n",
    "Đầu tiên dễ thấy, do giới hạn về thời gian của bài toán nên nếu sử dụng các thuật toán tính ước chung lớn nhất đơn giản sẽ dẫn đến bị chạy quá thời gian\n",
    "\n",
    "<b>Ví dụ: </b>Đoạn sourcecode tối giản phân số đơn giản dẫn đến bị quá thời gian"
   ]
  },
  {
   "cell_type": "code",
   "execution_count": 3,
   "metadata": {},
   "outputs": [],
   "source": [
    "def gcd(x, y):\n",
    "    while y != 0:\n",
    "        (x, y) = (y, x % y)\n",
    "    return x\n",
    "\n",
    "def ToiGian(a,b):\n",
    "    ucln = gcd(a,b)\n",
    "    return a/ucln,b/ucln"
   ]
  },
  {
   "cell_type": "markdown",
   "metadata": {},
   "source": [
    "Dễ thấy cách tính trên có thể dẫn đến vượt quá thời gian cho phép do thực hiện nhiều vòng lặp. Ta có thể tối ưu bằng cách sử dụng hàm để tính toán nhanh hơn\n",
    "\n",
    "<b>Ví dụ: </b> Sourcode sử dụng hàm để tối ưu tốc độ"
   ]
  },
  {
   "cell_type": "code",
   "execution_count": 4,
   "metadata": {},
   "outputs": [],
   "source": [
    "import math\n",
    "def ToiGian(a,b):\n",
    "    ucln = math.gcd(int(a),int(b))\n",
    "    return a/ucln,b/ucln"
   ]
  },
  {
   "cell_type": "markdown",
   "metadata": {},
   "source": [
    "Cuối cùng ta sẽ lặp việc cộng, tối giản, so sánh cho đến khi $\\frac{a}{b} > \\frac{c}{d}$\n",
    "<br>\n",
    "<b>Sourcecode đã Accepted:</b>"
   ]
  },
  {
   "cell_type": "code",
   "execution_count": 5,
   "metadata": {
    "scrolled": false
   },
   "outputs": [
    {
     "name": "stdout",
     "output_type": "stream",
     "text": [
      "1\n",
      "6\n",
      "2\n",
      "3\n",
      "5\n"
     ]
    }
   ],
   "source": [
    "import math\n",
    "def ToiGian(a,b):\n",
    "    ucln = math.gcd(int(a),int(b))\n",
    "    return a/ucln,b/ucln\n",
    "    \n",
    "def SoSanh(a, b, c, d):\n",
    "    if (a * d <= b * c):\n",
    "        return 1\n",
    "    else:\n",
    "        return 0\n",
    "a = int(input())\n",
    "b = int(input())\n",
    "c = int(input())\n",
    "d = int(input())\n",
    "\n",
    "i = 0\n",
    "flag = 0\n",
    "while (SoSanh(a, b, c, d)):\n",
    "    i+=1\n",
    "    a,b = ToiGian(a+1,b+1)\n",
    "    if (a/b) == (c/d):\n",
    "        flag = 1\n",
    "        break\n",
    "if flag == 0:\n",
    "    print(0)\n",
    "else:\n",
    "    print(i)"
   ]
  },
  {
   "cell_type": "markdown",
   "metadata": {},
   "source": []
  }
 ],
 "metadata": {
  "kernelspec": {
   "display_name": "Python 3",
   "language": "python",
   "name": "python3"
  },
  "language_info": {
   "codemirror_mode": {
    "name": "ipython",
    "version": 3
   },
   "file_extension": ".py",
   "mimetype": "text/x-python",
   "name": "python",
   "nbconvert_exporter": "python",
   "pygments_lexer": "ipython3",
   "version": "3.8.3"
  }
 },
 "nbformat": 4,
 "nbformat_minor": 4
}
