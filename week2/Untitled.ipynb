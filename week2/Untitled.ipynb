{
 "cells": [
  {
   "cell_type": "markdown",
   "metadata": {},
   "source": [
    "<h1>SUM2 - TÓM TẮT BÀI GIẢNG BUỔI 2 </h1>\n",
    "\n",
    "<h2>Cách làm việc nhóm trong cuộc thi ICPC</h2>\n",
    "\n",
    "- Trước khi thi cần phải tìm hiểu rõ thế mạnh của từng thành viên trong nhóm (người có khả năng đọc hiểu Tiếng Anh nhất trong nhóm thì chịu trách nhiệm việc đọc đề và phân tích cho các bạn còn lại trong nhóm , người có khả năng code tốt nhất sẽ là người chịu trách nhiệm code thuật toán ,...)\n",
    "- Khi bắt đầu cuộc thi, cả nhóm sẽ đọc qua tất cả các bài kết hợp với xem scoreboard để tìm ra bài có thể là dễ nhất để làm:\n",
    "    Bài dễ nhất là bài mà thuộc các dạng quen thuộc, đã từng làm trước đó, hoặc là bài được nhiều team làm xong nhất\n",
    "- Khi đã xác định được bài có khả năng làm được, cả nhóm sẽ đọc lại đề và phân tích đưa ra thuật toán. Sau đó, một bạn chịu trách nhiệm code, một bạn khác có nhiệm vụ sinh test set và suy nghĩ các trường hợp test đặc biệt test khó, bạn còn lại tiếp tục đọc các câu còn lại và tìm câu dễ tiếp theo để làm. Trường hợp chương trình bị lỗi hoặc không AC thì cả team xem lại code và thuật toán để tìm ra lỗi sai, nếu mất thời gian mà vẫn không thể sửa được thì tạm thời bỏ qua và chuyển sang bài tiếp theo\n",
    "\n",
    "<h3>MỘT SỐ LƯU Ý:</h3>\n",
    "\n",
    "- Nếu có thời gian, viết code ra giấy trước khi code trên máy để tiết kiệm thời gian dùng máy. Không cần code quá chi tiết, nên tập trung vào các phần quan trong nhất của code thôi.\n",
    "\n",
    "- Câu dễ không phải là câu A\n"
   ]
  },
  {
   "cell_type": "code",
   "execution_count": null,
   "metadata": {},
   "outputs": [],
   "source": []
  }
 ],
 "metadata": {
  "kernelspec": {
   "display_name": "Python 3",
   "language": "python",
   "name": "python3"
  },
  "language_info": {
   "codemirror_mode": {
    "name": "ipython",
    "version": 3
   },
   "file_extension": ".py",
   "mimetype": "text/x-python",
   "name": "python",
   "nbconvert_exporter": "python",
   "pygments_lexer": "ipython3",
   "version": "3.8.2"
  }
 },
 "nbformat": 4,
 "nbformat_minor": 4
}
