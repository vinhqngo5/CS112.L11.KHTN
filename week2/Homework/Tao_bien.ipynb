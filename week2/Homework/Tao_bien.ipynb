{
  "nbformat": 4,
  "nbformat_minor": 0,
  "metadata": {
    "colab": {
      "name": "Tao_bien.ipynb",
      "provenance": [],
      "collapsed_sections": [],
      "toc_visible": true
    },
    "kernelspec": {
      "name": "python3",
      "display_name": "Python 3"
    }
  },
  "cells": [
    {
      "cell_type": "markdown",
      "metadata": {
        "id": "kse7vbtKiAop",
        "colab_type": "text"
      },
      "source": [
        "#NHÓM 11\n",
        "##ĐỀ BÀI: TẢO BIỂN\n",
        "Tảo biển sinh sản rất nhanh khi có môi trường thuận lợi với chúng và có những   loài còn tiết ra môi trường những chất độc hại. Một loại tảo nâu trong môi trường nước bị ô nhiễm nặng sinh sản theo quy luật sau:\n",
        "*   Ngày đầu tiên (ngày 0) có n cá thể ở mức 1,\n",
        "*   Ở mỗi ngày tiếp theo, mỗi cá thể mức i sinh ra i cá thể mức 1, các cá thể mới sinh sẽ sinh sôi, phát triển từ ngày hôm sau.\n",
        "*   Bản thân các cá thể mức i phát triển thành mức i+1 và chu kỳ phát triển trong ngày chấm dứt.  \n",
        "\n",
        "Hãy xác định sau k ngày trong nước biển có bao nhiêu cá thể.  \n",
        "**Dữ liệu:** Vào từ thiết bị nhập chuẩn gồm một dòng chứa 2 số nguyên n và k (1 ≤ n ≤ 1000, 1 ≤ k ≤ 1018)  \n",
        "**Kết quả:** Đưa ra thiết bị xuất chuẩn một số nguyên – số lượng cá thể  tảo theo mô đun $10^9+7$.\n",
        "\n",
        "Ví dụ:\n",
        "\n",
        "|       input          |       output           |\n",
        "|----------------------|------------------------|\n",
        "| 3 2                  | 15                     |\n",
        "\n",
        "##1. Abstraction\n",
        "Chọn n = 1  \n",
        "Số tảo ngày thứ 0: 1 + **0** = **1**  \n",
        "Số tảo ngày thứ 1: 1 + **1** = **2**   \n",
        "Số tảo ngày thứ 2: 2 + **3** = **5**    \n",
        "Số tảo ngày thứ 3: 5 + **8** = **13**  \n",
        "Số tảo ngày thứ 4: 13 + **21** = **34**  \n",
        "Nếu ta lấy các số in đậm viết thành dãy ta được: 0, 1, 1, 2, 3, 5, 8, 13, 21,... Đây là dãy Fibonacci  \n",
        "Suy ra số tảo ngày thứ k chính là số ở vị trí $(2*k+1)$ trong dãy Fibonacci\n",
        "\n",
        "Qua cách phân tích trên, ta phát biểu lại bài toán: Cho $n,k$ .Tính $F(2*k+1)*n$  ( với $F(2*k+1)$ là số Fibonacci thứ $2*k+1$ )  \n",
        "\n",
        "##2. Pattern Recognition\n",
        "Đây là bài toán Tính số Fibonacci thứ n\n",
        "##3. Algorithm Design\n",
        "###a. Dùng đệ quy  \n",
        "Pseudo-Code\n",
        "Procedure: Fibonacci(n)  \n",
        "If n == 0 then \n",
        "Return 0\n",
        "Elif n == 1 then\n",
        "Return 1\n",
        "Elif Return Fibonacci(n-1) + Fibonacci(n-2)\n",
        "\n",
        "Độ phức tạp: $O(n)$\n",
        "Nên nếu k lớn (ví dụ: $10^{18}$) thì sẽ mất thời gian và bộ nhớ, để giải quyết vấn đề đó ta sử dụng "
      ]
    },
    {
      "cell_type": "code",
      "metadata": {
        "id": "oJQrSN55Sc9E",
        "colab_type": "code",
        "colab": {}
      },
      "source": [
        "n,k = [int(i) for i in input().split()]\n",
        "def Fibonacci(n):\n",
        "    if n==0: \n",
        "        return 0 \n",
        "    elif n==1: \n",
        "        return 1\n",
        "    else: \n",
        "        return Fibonacci(n-1)+Fibonacci(n-2)\n",
        "print(Fibonaci(2*i+1)*n)"
      ],
      "execution_count": null,
      "outputs": []
    },
    {
      "cell_type": "code",
      "metadata": {
        "id": "8hgJblDJhZ6B",
        "colab_type": "code",
        "colab": {
          "base_uri": "https://localhost:8080/",
          "height": 51
        },
        "outputId": "d3fff2d0-2de6-4bb6-a211-333f4254ddc0"
      },
      "source": [
        "def multiply_matrix(a,b):\n",
        "    result = [[0,0],[0,0]]\n",
        "    for i in range(2):\n",
        "        for j in range(2):\n",
        "            for k in range(2):\n",
        "                result[i][j] += a[i][k] * b[k][j]\n",
        "            result[i][j] = result[i][j] % mod\n",
        "    return result\n",
        "\n",
        "\n",
        "def Matrix_n(k,mod):\n",
        "    base_matrix = [[1,1],[1,0]]\n",
        "    if k == 1:\n",
        "        return base_matrix\n",
        "\n",
        "    result_1 = Matrix_n(k//2,mod)\n",
        "    if k%2 == 0:\n",
        "        result_2 = result_1\n",
        "    else:\n",
        "        result_2 = multiply_matrix(result_1,base_matrix)\n",
        "    result = multiply_matrix(result_1, result_2 )\n",
        "    return result\n",
        "\n",
        "mod = 1000000007\n",
        "n, k = [int(i) for i in input().split()]\n",
        "print((Matrix_n(2*k+1,mod)[0][1] * n) % mod )"
      ],
      "execution_count": null,
      "outputs": [
        {
          "output_type": "stream",
          "text": [
            "5 100\n",
            "646548541\n"
          ],
          "name": "stdout"
        }
      ]
    },
    {
      "cell_type": "code",
      "metadata": {
        "id": "t_BTLs6baVIA",
        "colab_type": "code",
        "colab": {}
      },
      "source": [
        ""
      ],
      "execution_count": null,
      "outputs": []
    }
  ]
}