{
  "nbformat": 4,
  "nbformat_minor": 0,
  "metadata": {
    "colab": {
      "name": "Tao_bien.ipynb",
      "provenance": [],
      "collapsed_sections": [],
      "toc_visible": true,
      "include_colab_link": true
    },
    "kernelspec": {
      "display_name": "Python 3",
      "language": "python",
      "name": "python3"
    },
    "language_info": {
      "codemirror_mode": {
        "name": "ipython",
        "version": 3
      },
      "file_extension": ".py",
      "mimetype": "text/x-python",
      "name": "python",
      "nbconvert_exporter": "python",
      "pygments_lexer": "ipython3",
      "version": "3.8.3"
    }
  },
  "cells": [
    {
      "cell_type": "markdown",
      "metadata": {
        "id": "view-in-github",
        "colab_type": "text"
      },
    },
    {
      "cell_type": "markdown",
      "metadata": {
        "colab_type": "text",
        "id": "kse7vbtKiAop"
      },
      "source": [
        "<h1>NHÓM 11</h1> <a href=\"https://l.facebook.com/l.php?u=https%3A%2F%2Fcolab.research.google.com%2Fdrive%2F1lAJKTNV4tWLQ4bhHns33gtTqEPvw0iGa%3Fusp%3Dsharing%26fbclid%3DIwAR1gx7I6q8zjZ7ZYz_YFvFAxw2E3OGOvqOyzm7-s48Q5CuRl1ILKrp8m1eA&h=AT1GI8bPUhC1KzPgXH12S26pRHruEEZ3ZM2gb__yQ7t2KbPPEIsLDhAyZpIHMgEdYCBrjsgeDaOJbkqj-HHf1rIfkp6-MON9CotLMBHDcpVQOlo76i4w-Gv3n_hdRQR3jwi25A\" target=\"_blank\"><img src=\"Screenshot 2020-09-22 163748.png\" width=\"150\" height=\"400\"></a>\n",
        "<h2>ĐỀ BÀI: TẢO BIỂN</h2>\n",
        "<br>\n",
        "Tảo biển sinh sản rất nhanh khi có môi trường thuận lợi với chúng và có những   loài còn tiết ra môi trường những chất độc hại. Một loại tảo nâu trong môi trường nước bị ô nhiễm nặng sinh sản theo quy luật sau:\n",
        "<ul>\n",
        "    <li>Ngày đầu tiên (ngày 0) có n cá thể ở mức 1 </li>\n",
        "<li>Ở mỗi ngày tiếp theo, mỗi cá thể mức i sinh ra i cá thể mức 1, các cá thể mới sinh sẽ sinh sôi, phát triển từ ngày hôm sau.</li>\n",
        "<li>Bản thân các cá thể mức i phát triển thành mức i+1 và chu kỳ phát triển trong ngày chấm dứt.</li>\n",
        "</ul>\n",
        "\n",
        "Hãy xác định sau k ngày trong nước biển có bao nhiêu cá thể.  \n",
        "<br>\n",
        "<b>Dữ liệu:</b> Vào từ thiết bị nhập chuẩn gồm một dòng chứa 2 số nguyên n và k (1 ≤ n ≤ 1000, 1 ≤ k ≤ 1018)  \n",
        "<br>\n",
        "<b>Kết quả:</b> Đưa ra thiết bị xuất chuẩn một số nguyên – số lượng cá thể  tảo theo mô đun $10^9+7$.\n",
        "\n",
        "Ví dụ:\n",
        "\n",
        "<img src=\"Screenshot 2020-09-22 165357.png\" width = \"150\" height=\"80\">\n",
        "\n",
        "<h2>1. Abstraction</h2>\n",
        "\n",
        "Chọn n = 1\n",
        "\n",
        "| Ngày thứ   | Số tảo ngày trước   | Số tảo được sinh ra       | Tổng số tảo         |\n",
        "|------------|---------------------|---------------------------|---------------------|\n",
        "|     0      |          1          |           **0**           |       **1**         |\n",
        "|     1      |          1          |           **1**           |       **2**         |\n",
        "|     2      |          2          |           **3**           |       **5**         |\n",
        "|     3      |          5          |           **8**           |       **13**        |\n",
        "|     4      |          13         |           **21**          |       **34**        |\n",
        "\n",
        "Nếu ta lấy các số in đậm viết thành dãy ta được: 0, 1, 1, 2, 3, 5, 8, 13, 21,... Đây là dãy Fibonacci  \n",
        "Suy ra số tảo ngày thứ k chính là số ở vị trí $(2*k+1)$ trong dãy Fibonacci\n",
        "\n",
        "Qua cách phân tích trên, ta phát biểu lại bài toán: Cho $n,k$ .Tính $F(2*k+1)*n$  ( với $F(2*k+1)$ là số Fibonacci thứ $2*k+1$ )  \n",
        "\n",
        "<h2>2. Pattern Recognition</h2>\n",
        "Đây là bài toán Tính số Fibonacci thứ n\n",
        "<h2>3. Algorithm Design</h2>\n",
        "\n",
        "<h3>a. Dùng định nghĩa dãy Fibonacci</h3>\n",
        "Dãy Fibonacci được định nghĩa theo công thức: $F_n = F_{n-1} + F_{n-2}$\n",
        "\n",
        "Muốn tính $F_n$ cần tính $F_{n-1}$ và $F_{n-2}$, muốn tính $F_{n-1}$ thì ta cần tính $F_{n-2}$ và $F_{n-3}$...  đây là dấu hiệu cho thấy có thể sử dụng đệ quy để giải bài toán\n",
        "Gọi F(n) là hàm tính số Fibonacci thứ n, gọi đệ quy F(n-1) và F(n-2) => F(n) = F(n-1) + F(n-2)\n",
        "\n",
        "Pseudo-Code\n",
        "```\n",
        "Procedure: Fibonacci(n)  \n",
        "    If n == 0 then \n",
        "        Return 0\n",
        "    Elif n == 1 then\n",
        "        Return 1\n",
        "    Else \n",
        "        Return Fibonacci(n-1) + Fibonacci(n-2)\n",
        "```\n",
        "\n",
        "\n",
        "\n",
        "\n"
      ]
    },
    {
      "cell_type": "code",
      "metadata": {
        "colab_type": "code",
        "id": "oJQrSN55Sc9E",
        "colab": {},
        "outputId": "cd2836b7-b4cb-4efd-bd2e-abcd5183e614"
      },
      "source": [
        "n,k = [int(i) for i in input().split()]\n",
        "def Fibonacci(n):\n",
        "    if n==0: \n",
        "        return 0 \n",
        "    elif n==1: \n",
        "        return 1\n",
        "    else: \n",
        "        return Fibonacci(n-1)+Fibonacci(n-2)\n",
        "print(Fibonacci(2*k+1)*n)"
      ],
      "execution_count": null,
      "outputs": [
        {
          "output_type": "stream",
          "text": [
            "5 2\n",
            "25\n"
          ],
          "name": "stdout"
        }
      ]
    },
    {
      "cell_type": "markdown",
      "metadata": {
        "colab_type": "text",
        "id": "8R-JH7Evv4H4"
      },
      "source": [
        "<h3>a. Dùng dạng ma trận của dãy Fibonacci</h3>\n",
        "<img src=\"Screenshot 2020-09-22 171018.png\">\n",
        "\n",
        "Ở đây ta cũng dùng đệ quy để giải bài toán\n",
        "Để tính ma trận Fibonacci thứ n, gọi hàm Fibonacci_matrix(n).\n",
        "\n",
        "\n",
        "Ở trong hàm Fibonacci_matrix(n) lại gọi hàm (đệ quy) Fibonacci_matrix(n/2) để tính ma trận Fibonacci thứ n/2 \n",
        "\n",
        "Pseudo-Code\n",
        "```\n",
        "Procedure: multiply_matrix(a,b) // Hàm nhân ma trận\n",
        "    Khởi tạo ma trận kết quả phép nhân result có kích thước 2x2\n",
        "    for i do:\n",
        "        for j do:\n",
        "            for k do:\n",
        "                 result[i][j] <- result[i][j]+(a[i][k]∗b[k][j]) \n",
        "                 result[i][j] <- result[i][j] \n",
        "Procedure: Fibonacci_matrix(k) // Hàm tính số Fibonacci\n",
        "    khởi tạo base_matrix = [[1,1],[1,0]]\n",
        "    If k = 1:\n",
        "        retrurn base_matrix\n",
        "    frac_matrix <- Fibonacci_matrix(k/2)\n",
        "    result <- multiply_matrix( frac_matrix,frac_matrix)\n",
        "    If k le:\n",
        "        result <- multiply_matrix( result,base_matrix)\n",
        "```\n",
        "\n",
        "\n"
      ]
    },
    {
      "cell_type": "code",
      "metadata": {
        "colab_type": "code",
        "id": "8hgJblDJhZ6B",
        "colab": {
          "base_uri": "https://localhost:8080/",
          "height": 51
        },
        "outputId": "d3fff2d0-2de6-4bb6-a211-333f4254ddc0"
      },
      "source": [
        "def multiply_matrix(a,b):\n",
        "    result = [[0,0],[0,0]]\n",
        "    for i in range(2):\n",
        "        for j in range(2):\n",
        "            for k in range(2):\n",
        "                result[i][j] += a[i][k] * b[k][j]\n",
        "            result[i][j] = result[i][j] % mod\n",
        "    return result\n",
        "\n",
        "\n",
        "def Matrix_n(k,mod):\n",
        "    base_matrix = [[1,1],[1,0]]\n",
        "    if k == 1:\n",
        "        return base_matrix\n",
        "\n",
        "    result_1 = Matrix_n(k//2,mod)\n",
        "    if k%2 == 0:\n",
        "        result_2 = result_1\n",
        "    else:\n",
        "        result_2 = multiply_matrix(result_1,base_matrix)\n",
        "    result = multiply_matrix(result_1, result_2 )\n",
        "    return result\n",
        "\n",
        "mod = 1000000007\n",
        "n, k = [int(i) for i in input().split()]\n",
        "print((Matrix_n(2*k+1,mod)[0][1] * n) % mod )"
      ],
      "execution_count": null,
      "outputs": [
        {
          "output_type": "stream",
          "text": [
            "5 100\n",
            "646548541\n"
          ],
          "name": "stdout"
        }
      ]
    },
    {
      "cell_type": "markdown",
      "metadata": {
        "colab_type": "text",
        "id": "89MipDWY6cUe"
      },
      "source": [
        "Độ phức tạp: $O(logn)$"
      ]
    }
  ]
}
