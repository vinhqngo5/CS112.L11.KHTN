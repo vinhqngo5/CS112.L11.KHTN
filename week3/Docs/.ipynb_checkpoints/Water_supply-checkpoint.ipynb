{
 "cells": [
  {
   "cell_type": "markdown",
   "metadata": {},
   "source": [
    "<h1>Nhóm 11</h1>\n",
    "<h1>Problems_Khôi phục hệ thống cấp nước:</h1>\n",
    "<br>\n",
    "<i><b>Đề bài</b></i>: Vùng đất diệu kỳ Wonderland có <b>N</b> hộ gia đình đã được trang bị một hệ thống cung cấp nước sạch đến từng ngôi nhà. Mỗi đường ống nối trực tiếp 2 nhà, nước chảy trong đường ống theo 2 chiều, có thể truyền qua nhiều trung gian trước khi đến một nhà nào đó. Trong hồ sơ lưu trữ, các ngôi nhà được ghi số từ 1 đến <b>N</b>.\n",
    "\n",
    "Một trận động đất đã gây nên sự cố nghiêm trọng làm cho cả vùng bị chia cắt thành nhiều khu vực rời nhau, không còn tiếp cận được với nguồn nước. Để khắc phục, những người có trách nhiệm đã khảo sát hiện trạng và ghi nhận được toàn vùng đất đang thảm họa vẫn còn <b>M</b> đường ống đang hoạt động tốt.\n",
    "\n",
    "Nhiệm vụ đặt ra là phải khôi phục hệ thống cấp nước bằng cách lắp thêm một số đường ống. Tuy nhiên, do hạn chế về thời gian và kinh phí nên đòi hỏi phương án khôi phục phải được thực hiện với ít đường ống được lắp thêm nhất. Câu hỏi đặt ra: cần lắp thêm ít nhất bao nhiêu đường ống để hệ thống cấp nước có thể đưa nước đến từng ngôi nhà. Câu hỏi phụ: có bao nhiêu phương án khác nhau đáp ứng yêu cầu; số phương án có thể khá lớn nên chỉ cần đưa ra số dư khi chia cho 109+7.</b>\n",
    "\n",
    "<br>\n",
    "<i><b>Dữ liệu: </b></i>\n",
    "<ul>\n",
    "    <li> Dòng đầu tiên chứa 2 số nguyên $N, M (1 ≤ N, M  ≤ 10^5)$</li>\n",
    "    <li> Mỗi dòng trong <b>M</b> dòng tiếp theo chứa 2 số nguyên $a, b (1 ≤ a,  b ≤ N)$. cho biết vẫn còn đường ống nối nhà <b>a</b> với nhà <b>b</b> </li>\n",
    "</ul>\n",
    "\n",
    "<i><b>Kết quả: </b></i>Đưa ra thiết bị xuất chuẩn số đường ống cần được lắp thêm và số phương án đáp ứng yêu cầu (theo mô đun $10^9+7$) mỗi số trên một dòng.\n",
    "\n",
    "<i><b>Dư liệu mẫu: </b></i>\n",
    "<img src=\"images/Screenshot 2020-09-29 084513.png\" width=150 height=250>"
   ]
  },
  {
   "cell_type": "markdown",
   "metadata": {},
   "source": [
    "<h2>Abstraction</h2>"
   ]
  },
  {
   "cell_type": "markdown",
   "metadata": {},
   "source": [
    "Đầu tiên ta sẽ coi như mỗi căn nhà trong đề bài là một đỉnh của đồ thị, mỗi đường ống dẫn nước giữa 2 căn nhà sẽ là 1 cạnh trong đồ thị đó. Vì đề bài không phân biệt hướng chảy của nước nên ta sẽ coi đây là đồ thị vô hướng, từ dữ liệu mẫu, ta có được đồ thị sau:\n",
    "<img src=\"images/Screenshot 2020-09-29 084954.png\" height=200 width=200>\n",
    "Lúc này, mỗi cụm các đỉnh có thể đi qua lại với nhau sẽ tạo thành 1 thành phần liên thông, và dữ liệu có thể tạo thành nhiều thành phần liên thông. Bài toán bây giờ sẽ quy về dạng: Tìm số cạnh ít nhất để nối tất cả thành phần liên thông tạo thành một và số cách tạo ra các cạnh ấy"
   ]
  },
  {
   "cell_type": "code",
   "execution_count": null,
   "metadata": {},
   "outputs": [],
   "source": []
  }
 ],
 "metadata": {
  "kernelspec": {
   "display_name": "Python 3",
   "language": "python",
   "name": "python3"
  },
  "language_info": {
   "codemirror_mode": {
    "name": "ipython",
    "version": 3
   },
   "file_extension": ".py",
   "mimetype": "text/x-python",
   "name": "python",
   "nbconvert_exporter": "python",
   "pygments_lexer": "ipython3",
   "version": "3.8.3"
  }
 },
 "nbformat": 4,
 "nbformat_minor": 4
}
