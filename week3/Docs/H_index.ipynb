{
  "nbformat": 4,
  "nbformat_minor": 0,
  "metadata": {
    "colab": {
      "name": "H_index.ipynb",
      "provenance": []
    },
    "kernelspec": {
      "name": "python3",
      "display_name": "Python 3"
    }
  },
  "cells": [
    {
      "cell_type": "markdown",
      "metadata": {
        "id": "EBcMLS3NwhIV"
      },
      "source": [
        "<h1>NHÓM 11</h1>\n",
        "<h2>H_Index</h2>\n",
        "\n",
        "Làm thế nào để đánh giá sự thành công của một nhà khoa học?  Dựa vào số bài báo được công bố hay dựa vào số lần một bài báo được trích dẫn tới ở công trình của những người khác? Cả hai tham số đó đều quan trọng.\n",
        "\n",
        "Một bài báo có điểm số trích dẫn là $c$ nếu nó được trích dẫn tới $c$ lần trong các công trình của những nhà khoa học khác. Một trong số các cách đánh giá sự thành công của một nhà khoa học là tính chỉ số ảnh hưởng H_Index dựa trên sự kết hợp giữa số lượng bài báo và chỉ số trích dẫn của các bài báo đó.\n",
        "\n",
        "Chỉ số H_Index của một nhà khoa học bằng k lớn nhất nếu người đó có k bài báo, mỗi bài có điểm số trích dẫn không nhỏ hơn $k$. Ví dụ, một người có 10 bài báo, mỗi bài báo được trích dẫn không dưới 10 lần thì H_Index của người đó ít nhất là bằng 10.\n",
        "\n",
        "Một người có $n$ bài báo, bài báo thứ $i$ có điểm trích dẫn là $c_i$, $i = 1 ÷ n$. Hãy xác định H_Index của người đó.\n",
        "\n",
        "<b>Dữ liệu</b> Vào từ thiết bị nhập chuẩn:\n",
        "\n",
        "Dòng đầu tiên chứa một số nguyên $n$ $(1 ≤ n ≤ 5 × 10^5)$,\n",
        "Dòng thứ 2 chứa $n$ số nguyên $c_1, c_2, . . ., c_n$ $(0 ≤ ci ≤ 10^6, i = 1 ÷ n)$.\n",
        "\n",
        "<b>Kết quả</b> Đưa ra thiết bị xuất chuẩn một số nguyên – H_Index tìm được.\n",
        "\n",
        "| INPUT            | OUTPUT              | \n",
        "|------------------|---------------------|\n",
        "|     5            |          4          |\n",
        "|     8 5 3 4 10   |                     |\n",
        "\n",
        "\n",
        "<h2>2. Pattern Recognition</h2>\n",
        "Phân tích: Chỉ số H_index = k có nghĩa là nhà khoa học đó có k bài báo mà mỗi bài báo có ít nhất k trích dẫn (k lớn nhất có thể ) hay tìm k lớn nhất sao cho có k bài báo có trích dẫn không nhỏ hơn k.\n",
        "\n",
        "Ta phải xét bài báo có nhiều trích dẫn nhất đến bài báo có ít trích dẫn nhất. Lần lượt xét các bài báo và đưa vào một \"tệp lưu trữ\" nếu bài báo đó thỏa mãn điều kiện sau, các bài báp trong \"tệp lưu trữ\" (sau khi thêm bài báo đang xét)  phải có số lần trích dẫn lớn hơn số lượng bài trong \"tệp lưu trữ\", nếu có bài báo không thõa mãn điều kiện trên thì loại bài báo đó ra khỏi \"tệp lưu trữ\" số bài báo còn lại là chỉ số H_index.\n",
        "\n",
        "Nếu ta xem \"tệp lưu trữ\" là một mảng chứa các bài báo thì có thể rút ra được dạng đơn giản của bài toán.\n",
        "\n",
        "Abstraction: Cho dãy a giảm dần, tìm $i_{max}$ sao cho $a_i \\geq  i$\n",
        "\n",
        "<h2>3. Algorithm Design</h2>\n",
        "\n",
        "Pseudo-Code\n",
        "```\n",
        "a_array là mảng chứa số lượng trích dẫn mỗi bài báo\n",
        "Sắp xếp mảng a_array theo thứ tự giảm dần\n",
        "For i = 1 to n do:\n",
        "    If a[i] < i:\n",
        "        print(i-1)   #In kết quả\n",
        "        break        #Thoát vòng lặp\n",
        "```\n",
        "\n",
        "\n",
        "\n"
      ]
    },
    {
      "cell_type": "markdown",
      "metadata": {
        "id": "40xMeUtP7Q4t"
      },
      "source": [
        "<h3>3. Implement</h3>"
      ]
    },
    {
      "cell_type": "code",
      "metadata": {
        "id": "j9QJm77czVkz",
        "outputId": "c4b04979-32ab-4d8b-eba4-7fffe89a973f",
        "colab": {
          "base_uri": "https://localhost:8080/",
          "height": 68
        }
      },
      "source": [
        "n = int(input())\n",
        "a = [int(i) for i in input().split()]\n",
        "\n",
        "a.sort(reverse=True)\n",
        "for i in range(1,n):\n",
        "      if (a[i] < i):\n",
        "          print(i-1)\n",
        "          break\n"
      ],
      "execution_count": null,
      "outputs": [
        {
          "output_type": "stream",
          "text": [
            "9\n",
            "6 2 1 3 5 8 10 7 15\n",
            "5\n"
          ],
          "name": "stdout"
        }
      ]
    },
    {
      "cell_type": "code",
      "metadata": {
        "id": "9n209NCizYe5"
      },
      "source": [
        ""
      ],
      "execution_count": null,
      "outputs": []
    }
  ]
}