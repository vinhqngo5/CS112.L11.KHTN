{
 "cells": [
  {
   "cell_type": "markdown",
   "metadata": {},
   "source": [
    "<h1>SUM3 - TÓM TẮT BÀI GIẢNG BUỔI 3</h1>\n",
    "<h2>Thảo luận bài tập buổi 3 </h2>\n",
    "<h3>Phân chia công việc</h3>\n",
    "\n",
    "Áp dụng kinh nghiệm phân chia công việc đã học ở buổi trước, chúng em rút ra ưu điểm, thế mạnh và từng người; công việc được phân chia như sau:\n",
    "<ul>\n",
    "    <li>Hứa Thanh Tân(nhóm trưởng): có khả năng tư duy thuật toán tốt và khả nắng lập trình cứng $\\rightarrow$ đảm nhiệm nhiệm vụ code chính trong nhóm </li>\n",
    "    <li>Ngô Quang Vinh: có khả năng đọc đề tốt và khả năng tư duy thuật toán ổn định $\\rightarrow$ sẽ giúp bạn Hứa Thanh Tân trong lúc lập trình cũng như nghĩ giải thuật và nghiên cứu đề bài tiếp theo</li>\n",
    "    <li>Ngô Hữu Mạnh Khanh: là người có kinh nghiệm lập trình với python với thời gian dài và có khả năng suy nghĩ các corner cases cũng như các test tốt $\\rightarrow$ sẽ là người sinh test kiểm tra </li>\n",
    "</ul>\n",
    "\n",
    "<h3>Quá trình giải bài tập</h3>\n",
    "<h4>Bài tập H-Index</h4>\n",
    "<ul>\n",
    "    <li>Bước 1: Phân chia đọc đề, tất cả các bạn đều phân chia đọc đề</li>\n",
    "    <li>Bước 2: Áp dụng Computational Thinking $\\rightarrow$ dễ dàng nhận thấy đây là bài tập sort đơn giản</li>\n",
    "    <li>Bước 3: Bắt đầu lập trình</li>\n",
    "    <li>Bước 4: Sinh test cases mẫu cho code </li>\n",
    "</ul>\n",
    "Phương pháp giải chi tiết tại: <a src=\"H_index.ipynb\">H-Index</a>\n",
    "<h4>Bài tập Water-Supply</h4>\n",
    "<ul>\n",
    "    <li>Bước 1: Trong lúc bạn code chính code bài trên, đọc đề và nhận dạng bài tập trước</li>\n",
    "    <li>Bước 2: Áp dụng Computational Thinking $\\rightarrow$ Bài toán này có thể giải theo 2 cách là DSU và DFS</li>\n",
    "    <li>Bước 3: Giải quyết bài toán phụ bằng chứng minh toán học</li>\n",
    "    <li>Bước 4: Cả 2 bạn cùng lập trình cho bài toán và cho 2 cách khác nhau vì mỗi cách đều có ưu nhược riêng, bạn còn lại chứng minh toán học bài toán con và sinh tests</li>\n",
    "</ul>\n",
    "Phương pháp giải chi tiết tại: <a src=\"Water_supply.ipynb\">Water-supply</a>\n",
    "\n",
    "<h2>Giải bài tập từ buổi 2</h2>\n",
    "\n",
    "Thầy Duy cùng các anh/ bạn điểm sơ lại những cách có thể để giải quyết bài toán đếm sao. Phương pháp là quy bài toán ban đầu về bài toán Quy hoạch động điển hình <b><i>\"Dãy con tăng dài nhất\"</i></b>\n"
   ]
  },
  {
   "cell_type": "code",
   "execution_count": null,
   "metadata": {},
   "outputs": [],
   "source": []
  }
 ],
 "metadata": {
  "kernelspec": {
   "display_name": "Python 3",
   "language": "python",
   "name": "python3"
  },
  "language_info": {
   "codemirror_mode": {
    "name": "ipython",
    "version": 3
   },
   "file_extension": ".py",
   "mimetype": "text/x-python",
   "name": "python",
   "nbconvert_exporter": "python",
   "pygments_lexer": "ipython3",
   "version": "3.8.3"
  }
 },
 "nbformat": 4,
 "nbformat_minor": 4
}
