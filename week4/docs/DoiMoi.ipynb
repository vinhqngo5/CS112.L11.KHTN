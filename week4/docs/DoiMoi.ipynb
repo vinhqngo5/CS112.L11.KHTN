{
  "nbformat": 4,
  "nbformat_minor": 0,
  "metadata": {
    "colab": {
      "name": "W4_P1_DoiMoi.ipynb",
      "provenance": [],
      "collapsed_sections": [],
      "authorship_tag": "ABX9TyOl5rCSDhig6GoNbwQP4Ood",
      "include_colab_link": true
    },
    "kernelspec": {
      "name": "python3",
      "display_name": "Python 3"
    }
  },
  "cells": [
    {
      "cell_type": "markdown",
      "metadata": {
        "id": "view-in-github",
        "colab_type": "text"
      },
      "source": [
        "<a href=\"https://colab.research.google.com/github/vinhqngo5/CS112.L11.KHTN_Team011/blob/master/week4/docs/DoiMoi.ipynb\" target=\"_parent\"><img src=\"https://colab.research.google.com/assets/colab-badge.svg\" alt=\"Open In Colab\"/></a>"
      ]
    },
    {
      "cell_type": "markdown",
      "metadata": {
        "id": "tQgKMBkQxJ5C"
      },
      "source": [
        "<h1>NHOM 11</h1>\n",
        "<h2>Problem: Đổi mới </h2>\n",
        "\n",
        "Thành phố quyết định chặt hạ hết $n$ cây xanh hiện có trong thành phố để trồng chỉ một loại cây mới. Nhiệm vụ được giao cho Công ty Cây xanh thành phố. Do hạn chế về thiết bị Công ty chỉ tổ chức được 2 đội đốn hạ cây. Đội I hạ được $a$ cây mỗi ngày, nhưng cứ mối ngày thứ $k$ thì phải nghỉ để bảo dưỡng kỹ thuật, tức là đội I sẽ nghỉ vào các ngày $k, 2k, 3k,$ . . . Đội II hạ được $b$ cây mỗi ngày, nhưng cứ mỗi ngày thứ $m$ thì phải nghỉ để bảo dưỡng kỹ thuật, tức là đội II sẽ nghỉ vào các ngày $m, 2m, 3m,$ . . . Ở ngày nghỉ, số cây chặt hạ của đội sẽ là 0. Cả hai đội bắt đầu công việc vào cùng một ngày và làm việc song song với nhau.\n",
        "\n",
        "Công việc trồng cây mới sẽ bắt đầu sau khi toàn bộ cây cũ đã bị đốn hạ.\n",
        "\n",
        "Hãy xác định sau bao nhiêu ngày thì có thể bắt đầu việc trồng mới cây.\n",
        "\n",
        "<b>Dữ liệu:</b> Vào từ thiết bị nhập chuẩn gồm một dòng chứa 5 số nguyên $a, k, b, m$ và $n$ $(1 ≤ a, b ≤ 10^9, 2 ≤ k, m ≤ 10^{18}, 1 ≤ n ≤ 10^{18})$.\n",
        "\n",
        "<b>Kết quả:</b> Đưa ra thiết bị xuất chuẩn một số nguyên – số ngày tính được.\n",
        "\n",
        "Ví dụ:\n",
        "\n",
        "<h2>1. Abstraction</h2>\n",
        "Gọi ans (1 <= ans <= n) là số ngày cần thiết để 2 đội chặt hết toàn bộ cây\n",
        "\n",
        "số cây mà đội I chặt được là:  ans * a - (ans div k ) * a  (1)\n",
        "\n",
        "số cây mà đội II chặt được là: ans * b - (ans div m ) * b  (2)\n",
        "\n",
        "Từ (1) và (2), n = ans * a - (ans div k ) * a + ans * b - (ans div m ) * b (*)\n",
        "\n",
        "Phát biểu lại bài toán: Tìm một số nguyên ans thỏa mãn phương trình (*)\n",
        "\n",
        "<h2>2. Pattern Recognition </h2>\n",
        "\n",
        "Vì biết ans là một số nguyên nằm trong khoảng (1;n) và a phải thỏa mãn một phương trình, nên đây có thể quy về bài toán tìm kiếm nhị phân.\n",
        "\n",
        "<h2>3. Algorithm Design </h2>\n",
        "\n",
        "\n",
        "\n",
        "```\n",
        "l = 1  # Biên bên trái \n",
        "r = n  # Biên bên phải, l <= ans <= r\n",
        "ans = 0 # Khởi tạo biến kết quả\n",
        "\n",
        "Lặp nếu thỏa mãn điều kiện (l <= r)\n",
        "    mid = (l+r)//2   # xét ngày ở chính giữa l và r\n",
        "    tree = mid * a - (mid // k) * a + mid * b - (mid // m) * b // Tính số cây chặt được ở ngày thứ mid\n",
        "    nếu tree >= n :  # nếu mà số cây chặt được ở ngày thứ mid nhiều hơn hoặc bằng số cây cần chặt \n",
        "        r = mid -1   # thì ans nằm trong khoảng từ l đến mid -1 \n",
        "        ans = mid\n",
        "    nếu không :\n",
        "        l = mid + 1  # Nếu mà số cây chặt được ở ngày thứ mid ít hơn số cây cần chặt thì ans nằm trong khoảng \n",
        "                     # từ mid +1 đến r\n",
        "\n",
        "kết thúc vòng lặp in ra kết quả \n",
        "```\n",
        "\n",
        "\n",
        "\n",
        "\n",
        "\n",
        "\n",
        "\n",
        "\n",
        "\n",
        "\n"
      ]
    },
    {
      "cell_type": "code",
      "metadata": {
        "id": "idfuOXd8xUl7"
      },
      "source": [
        "a, k, b, m, n = map(int, input().split())\n",
        "\n",
        "l, r, ans = 1, n, 0\n",
        "while (l <= r):\n",
        "    mid = (l + r) // 2\n",
        "    day = mid * a - (mid // k) * a + mid * b - (mid // m) * b\n",
        "    if (day >= n):\n",
        "        r = mid - 1\n",
        "        ans = mid\n",
        "    else:\n",
        "        l = mid + 1\n",
        "\n",
        "print(ans)"
      ],
      "execution_count": null,
      "outputs": []
    }
  ]
}