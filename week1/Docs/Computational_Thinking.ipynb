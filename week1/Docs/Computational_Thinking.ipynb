{
 "cells": [
  {
   "cell_type": "markdown",
   "metadata": {},
   "source": [
    "<i><h1 style=\"font-size: 50px; text-align:center; color:red\">Computational Thinking</h1></i>\n",
    "<br>\n",
    "<h1>I. Giới thiệu</h1>\n",
    "<br>\n",
    "<span>Computational Thinking còn gọi là Tư duy Tính toán, hoặc Tư duy Máy tính, hoặc Tư duy Điện toán. Thuật ngữ “Computational Thinking” đầu tiên được đề cập trong quyển sách MINDSTORMS (xuất bản lần đầu năm 1980), nói về ngôn ngữ lập trình dành cho trẻ em LOGO của Nhà khoa học Seymour Papert. Sau đó, thuật ngữ này được phát triển chính thức bởi Giáo sư Jeannette Marie Wing trong bài báo khoa học “Computational Thinking” vào năm 2006.</span>\n",
    "<blockquote>“Computational Thinking is the thought processes involved in formulating problems and their solutions so that the solutions are represented in a form that can be effectively carried out by an information-processing agent.”</blockquote>\n",
    "<span>Tư duy máy tính thể hiện cách nhìn nhận một vấn đề và giải quyết vấn đề đó một cách có hệ thống tạo ra được giải pháp mà cả con người và máy tính đạt hiểu được. Tư duy máy tính hình thành từ 4 thành phần: </span>\n",
    "<blockquote><ol style=\"padding-left: 18px\">\n",
    "    <li>Abstraction</li>\n",
    "    <li>Decomposition</li>\n",
    "    <li>Pattern Recognition</li>\n",
    "    <li>Algorithmic Thinking</li>\n",
    "</ol></blockquote>\n",
    "<span>Cụ thể hơn, chúng ta hãy đi vào <i>\"phân tích\", \"mổ xẻ\"<i> bài toán sau đây: </span>\n",
    "<blockquote>\n",
    "    <h3 style=\"text-align: center\">Maximum Sum Value Path <i>(Đường đi tạo thành tổng lớn nhất)</i></h3>\n",
    "    <br>\n",
    "    <span><b>Bài toán:</b> Cho một bảng <i>N∗N</i>, mỗi ô có một lượng táo. Bắt đầu từ ô trái trên, mỗi bước có thể đi sang phải hoặc xuống dưới. Bạn có thể ăn được nhiều nhất bao nhiêu quả táo ?</span>\n",
    "    <br>\n",
    "    <i style=\"padding-left: 350px\">Nguồn: <a>https://vnoi.info/wiki/translate/topcoder/dynamic-programming.md</a></i>\n",
    "</blockquote>\n",
    "<img src=\"MathGridGame-Apples.jpg\">\n",
    "<h1>II. Những kỹ năng của Computational Thinking</h1>\n",
    "<h2>1. Decomposition (Tư duy phân rã)</h2>\n",
    "<br>\n",
    "<span>Khái niệm: Decomposition hay Tư duy phân rã là kỹ năng chia tách vấn đề thành nhiều vấn đề nhỏ và đơn giản hơn $\\rightarrow$ từ đó giúp chúng ta có thể vận dụng các thuật toán cơ bản để giải quyết các bài toán hóc búa.</span>\n",
    "<br><br>\n",
    "<span>Ví dụ: Đầu tiên ở bài toán trên, chúng ta thay vì tiếp cận với những quả táo, thì chúng ta sẽ thay thế bằng những dữ liệu rõ ràng hơn như là những con số. Đề bài sau khi được tư duy phân rã và trừu tượng hóa(bỏ đi những yếu tố không cần thiết) sẽ trở thành như sau:</span>\n",
    "<br><br>\n",
    "<blockquote><span>Cho một lưới ô vuông gồm $N x N$ ô. Xuất phát từ đỉnh trái trên, ta đi xuống đỉnh phải dưới sao cho tổng các giá trị trên đường đi là lớn nhất. \n",
    "    Ta chỉ được đi xuống dưới và qua phải</span></blockquote>\n",
    "<h2>2. Abstraction (Tư duy trừu tượng)</h2>\n",
    "<br>\n",
    "<span>Khái niệm: Abstraction hay tư duy trừu tượng là loại bỏ những chi tiết không cần thiết, tập trung vào bản chất vấn đề $\\Rightarrow$ Phát triển vấn đề lên thành một khái niệm hoặc định nghĩa, giúp cho xác định bài toán một cách hợp lý.</span>\n",
    "<br><br>\n",
    "<span>Ví dụ: Trong bài toán trên ta đã bỏ đi các yếu tố không cần thiết như là quả táo, ăn, ... Và thay vào đó là các con số cụ thể hơn</span>\n",
    "<h2>3. Pattern Recognition (Tìm kiếm quy luật)</h2>\n",
    "<br>\n",
    "<span>khái niệm: Và cuối cùng cũng chính là Pattern Recognition, sau khi chia nhỏ vấn đề ra thành nhiều phần, xem xét nhưng phần đó có những điểm tương đồng nhau hay không? hay có tương tự như những vấn đề đã gặp trước đó chưa? nhằm đưa ra giải pháp giải quyết.</span>\n",
    "<br>\n",
    "<span>Ví dụ: Tiếp tục bài toán phía trên, ta tìm được quy luật sau:\n",
    "<br>\n",
    "<span style=\"padding-left:50px\">Tới ô i, j ta đã có tổng lớn nhất là $S(i,j)$ vậy có 2 hướng đi để đến được ô $(i, j)$ là:</span>\n",
    "<br>\n",
    "<blockquote>\n",
    "    $S(i, j) = S(i, j-1) + a[i][j]$ nếu ta đi qua phải để đến $(i, j)$\n",
    "    <br>\n",
    "    $S(i, j) = S(i-1, j) + a[i][j]$ nếu ta đi xuống dưới để đến $(i, j)$ \n",
    "</blockquote>\n",
    "    <span style=\"padding-left:50px\">Dễ thấy đây là một bài toán quy hoạch động điển hình, ta chỉ cần lấy giá trị lớn nhất 2 trường hợp. </span\n",
    "</span>\n",
    "\n",
    "<h2>4. Algorithmic Thinking (Kỹ năng tư duy thuật toán)</h2>\n",
    "<br>\n",
    "<span>Khái niệm: Sau khi đã mô hình hóa bài toán một cách cụ thể, đồng thời phân tách bài toán thành những bài toán con đơn giản hơn. Lúc này, chúng ta phải đưa ra giải pháp để có thể giải quyết triệt để bài toán đó. Đó cũng chính là kỹ năng tư duy thuật toán. Bước này đòi hỏi người giải quyết bài toán phải có kiến thức vững vàng, đồng thời cần phải suy tính đến các trường hợp đặc biệt để có thể hoàn thành.\n",
    "</span>\n",
    "<br><br>\n",
    "<span>Ví dụ: Lúc này sau khi đã có được những cái nhìn đầu tiên về bài toán, chúng ta sẽ đi thiết kế thuật toán sao cho phù hợp</span>\n",
    "\n"
   ]
  },
  {
   "cell_type": "markdown",
   "metadata": {},
   "source": [
    "\n",
    "\n"
   ]
  },
  {
   "cell_type": "code",
   "execution_count": null,
   "metadata": {},
   "outputs": [],
   "source": [
    "for i in range(n): \n",
    "      for j in range(n): \n",
    "            f[i][j] = max(f[i-1][j], f[i][j-1]) + a[i][j] \n",
    "print(f[n][n]) "
   ]
  },
  {
   "cell_type": "code",
   "execution_count": null,
   "metadata": {},
   "outputs": [],
   "source": []
  }
 ],
 "metadata": {
  "kernelspec": {
   "display_name": "Python 3",
   "language": "python",
   "name": "python3"
  },
  "language_info": {
   "codemirror_mode": {
    "name": "ipython",
    "version": 3
   },
   "file_extension": ".py",
   "mimetype": "text/x-python",
   "name": "python",
   "nbconvert_exporter": "python",
   "pygments_lexer": "ipython3",
   "version": "3.8.3"
  }
 },
 "nbformat": 4,
 "nbformat_minor": 4
}
