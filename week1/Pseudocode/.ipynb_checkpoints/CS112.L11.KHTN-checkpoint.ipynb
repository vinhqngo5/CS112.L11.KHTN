{
 "cells": [
  {
   "cell_type": "markdown",
   "metadata": {},
   "source": [
    "<h3> Problem </h3>\n",
    "\n",
    "BOT (Built-Operation-Transfer, có nghĩa: Xây dựng-Vận hành-Chuyển giao) là hình thức Chính phủ kêu gọi các công ty bỏ vốn xây dựng trước (Built) thông qua đấu thầu, sau đó khai thác vận hành một thời gian (Operation) và sau cùng là chuyển giao (Transfer) lại cho nhà nước sở tại.\n",
    "\n",
    "Đường cao tốc xuyên quốc gia được xây dựng theo hình thức BOT. Công ty Đa quốc gia Modern Highway trúng thầu, chia toàn bộ con đường thành n đoạn. Theo tính toán của Công ty sau khi chuyển giao con đường cho chính phủ sở tại quản lý thì lãi thu được ở đoạn đường thứ i là ai, ai có thể dương, âm hoặc bằng 0, tức là với từng đoạn con có thể lãi, lỗ hoặc hòa vốn. Từng nhóm các đoạn đường liên tiếp nhau (gọi tắt là khoảng) được chia cho các công ty con thực hiện. Công ty con ASEAM Highway hiện đang có trụ sở ở nước sở tại được quyền chọn trước khoảng tùy ý (có thể là cả con đường).\n",
    "\n",
    "Dĩ nhiên Ban Giám đốc ASEAM Highway muốn chọn khoảng bắt đầu từ đoạn p đến hết đoạn q mang lại lợi nhuận cao nhất hoặc lỗ ít nhất nếu không có khoảng nào cho lãi.\n",
    "\n",
    "Hãy chỉ ra khoảng cần chọn và lãi thu được. Nếu có nhiều cách chọn thì chỉ ra cách chọn có p nhỏ nhất."
   ]
  },
  {
   "cell_type": "markdown",
   "metadata": {},
   "source": [
    "<h3>Constraint </h3>\n",
    "\n",
    "<ul>\n",
    "  <li>Số phần tử $N$ không vượt quá $10^6$ </li>\n",
    "  <li>Các giá trị phần tử có giá trị tuyệt đối không vượt quá $10^9$ </li>\n",
    "</ul>\n",
    "<img src=\"Screen Shot 2020-09-17 at 10.49.28.png\" width=\"600\" height = \"300\">"
   ]
  },
  {
   "cell_type": "markdown",
   "metadata": {},
   "source": [
    "<h3> Abstraction </h3>\n",
    "\n",
    "Tìm dãy con liên tiếp từ $i$ đến $j$  với $i \\leq j \\leq n$ trên dãy $a$ sao cho $\\sum^j_{k = i} a_k$ max.\n",
    "\n",
    "Ví dụ ở dãy trên, ta có vị trí từ $5$ đến $15$ có tổng lớn nhất là $12$\n",
    "\n",
    "<h3> Pattern Recognition </h3>\n",
    "Nhận dạng bài toán và kĩ thuật áp dụng:\n",
    "\n",
    "Bài này có thể giải theo hai phương pháp đó là: <b>Quy hoạch động </b> và <b>Hai con trỏ</b>\n",
    "\n",
    "<h4>Phương pháp thứ 1: <b>Quy hoạch động</b> </h4>\n",
    "<ul>\n",
    "    <li><span>Ta sử dụng Tổng tiền tố để tính toán tổng các phần từ đầu đến vị trí thứ i</span>\n",
    "        <blockquote>$preSum_i = a_1 + a_2 + ... + a_n$ </blockquote>\n",
    "    <li> Để tính tổng từ vị trí i đến vị trí j:\n",
    "        <blockquote> $ sum_{i, j} = preSum_j - preSum_{i-1} $ </blockquote>\n",
    "    <li> Từ công thức trên, để tìm max $sum_{i, j}$ ta sẽ tối đa hoá $preSum_j$ và cực tiểu hoá $preSum_{i-1}$\n",
    "    <li> Dễ thấy, ta có thể duyệt 2 vòng for để vét cạn hết vị trí $i, j$ có thể có để tìm tổng lớn nhất. Tuy nhiên cách này tốn chi phí thực hiện là $O(N^2)$\n",
    "    <li> Vậy nên, dựa trên công thức trên, ta có thể tối ưu bằng phương pháp <b>Quy Hoạch Động</b> Với mỗi vị trí $j$ ta chỉ cần tìm vị trí $i-1$ với $i < j$ $\\rightarrow$ tìm ra được giá trị lớn nhất của $Max_{j}$ ứng vơi vị trí $j$\n",
    "    <li> Sau cùng ta cần tìm giá trị lớn nhất của $Max_j$ với $j$ chạy từ 1 đến n\n",
    "</ul>\n",
    "<h4>SourceCode Quy Hoạch Động</h4>\n",
    "\n"
   ]
  },
  {
   "cell_type": "code",
   "execution_count": 1,
   "metadata": {
    "scrolled": true
   },
   "outputs": [
    {
     "name": "stdout",
     "output_type": "stream",
     "text": [
      "5\n",
      "1 4 5 -2 2\n",
      "1 3 10\n"
     ]
    }
   ],
   "source": [
    "# Nhập vào input\n",
    "n = int(input())\n",
    "A = list(map(int, input().split()))\n",
    "# Khai báo các biến, trong đó:\n",
    "# mi: min khi tính đến vị trí đang xét, \n",
    "# pivot: tổng tiền tố tất cả các số tính đến vị trí đang xet,\n",
    "# res: giá trị lớn nhất của các Max đã tính\n",
    "# l, ans_l, ans_r: vị trí cần xuất\n",
    "mi, pivot, res, l, ans_l, ans_r = 0, 0, 0, -1, -1, -1\n",
    "for i in range(n):\n",
    "    pivot += A[i]\n",
    "    if (pivot < mi):\n",
    "        mi = pivot\n",
    "        l = i\n",
    "    if (pivot - mi > res):\n",
    "        res = pivot - mi\n",
    "        ans_l = l\n",
    "        ans_r = i\n",
    "print(ans_l + 2, ans_r + 1, res)"
   ]
  },
  {
   "cell_type": "markdown",
   "metadata": {},
   "source": [
    "<img src=\"colab_favicon_256px.png\" width=\"100\" height=\"180\" style=\"padding-left:0px\">\n",
    "<a style=\"text-align: center\" href=\"https://colab.research.google.com/drive/1QGLY8QEuRJ-i0OvvfLNVg7Uuqyb5W6Md\">OpenWithColab</a>\n"
   ]
  },
  {
   "cell_type": "markdown",
   "metadata": {},
   "source": [
    "<h4>Phương pháp thứ 2: <b>Hai con trỏ</b> </h4>\n",
    "\n",
    "\n",
    "<h3>Algorithm Designed </h3>\n",
    "\n",
    "Input: Dãy số $a$ chứa $N$ phần tử ($N \\leq 10^6$) mang giá trị từ $-10^9$ đến $10^9$\n",
    "\n",
    "Output: Ba số nguyên $i$, $j$ ($i \\leq j \\leq N)$ và $sum$ là tổng lớn nhất. \n",
    "\n",
    "\n",
    "<h3> Programming </h3>"
   ]
  },
  {
   "cell_type": "code",
   "execution_count": 8,
   "metadata": {},
   "outputs": [
    {
     "name": "stdout",
     "output_type": "stream",
     "text": [
      "5\n",
      "1 4 5 -2 2\n",
      "1 3 10\n"
     ]
    }
   ],
   "source": [
    "n = int(input())\n",
    "a = list(map(int, input().split()))\n",
    "sum, ans, l, r, L, R = 0, 0, 0, 0, -1, -1\n",
    "for i in range(n):\n",
    "      if (sum + a[i] >= 0):\n",
    "            sum += a[i]\n",
    "            if (sum > ans):\n",
    "                  ans, L, R, r = sum, l, i, i\n",
    "      else:\n",
    "            sum, l = 0, i+1\n",
    "print(L + 1, R + 1, ans) "
   ]
  },
  {
   "cell_type": "markdown",
   "metadata": {},
   "source": [
    "Độ phức tạp $O(N)$"
   ]
  }
 ],
 "metadata": {
  "kernelspec": {
   "display_name": "Python 3",
   "language": "python",
   "name": "python3"
  },
  "language_info": {
   "codemirror_mode": {
    "name": "ipython",
    "version": 3
   },
   "file_extension": ".py",
   "mimetype": "text/x-python",
   "name": "python",
   "nbconvert_exporter": "python",
   "pygments_lexer": "ipython3",
   "version": "3.8.3"
  }
 },
 "nbformat": 4,
 "nbformat_minor": 4
}
