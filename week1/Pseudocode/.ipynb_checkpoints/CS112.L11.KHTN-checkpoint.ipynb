{
 "cells": [
  {
   "cell_type": "markdown",
   "metadata": {},
   "source": [
    "BOT (Built-Operation-Transfer, có nghĩa: Xây dựng-Vận hành-Chuyển giao) là hình thức Chính phủ kêu gọi các công ty bỏ vốn xây dựng trước (Built) thông qua đấu thầu, sau đó khai thác vận hành một thời gian (Operation) và sau cùng là chuyển giao (Transfer) lại cho nhà nước sở tại.\n",
    "\n",
    "Đường cao tốc xuyên quốc gia được xây dựng theo hình thức BOT. Công ty Đa quốc gia Modern Highway trúng thầu, chia toàn bộ con đường thành n đoạn. Theo tính toán của Công ty sau khi chuyển giao con đường cho chính phủ sở tại quản lý thì lãi thu được ở đoạn đường thứ i là ai, ai có thể dương, âm hoặc bằng 0, tức là với từng đoạn con có thể lãi, lỗ hoặc hòa vốn. Từng nhóm các đoạn đường liên tiếp nhau (gọi tắt là khoảng) được chia cho các công ty con thực hiện. Công ty con ASEAM Highway hiện đang có trụ sở ở nước sở tại được quyền chọn trước khoảng tùy ý (có thể là cả con đường).\n",
    "\n",
    "Dĩ nhiên Ban Giám đốc ASEAM Highway muốn chọn khoảng bắt đầu từ đoạn p đến hết đoạn q mang lại lợi nhuận cao nhất hoặc lỗ ít nhất nếu không có khoảng nào cho lãi.\n",
    "\n",
    "Hãy chỉ ra khoảng cần chọn và lãi thu được. Nếu có nhiều cách chọn thì chỉ ra cách chọn có p nhỏ nhất."
   ]
  },
  {
   "cell_type": "markdown",
   "metadata": {},
   "source": [
    "<h3> Abstraction </h3>\n",
    "\n",
    "Tìm dãy con liên tiếp từ $i$ đến $j$  với $i \\leq j \\leq n$ trên dãy $a$ sao cho $\\sum^j_{k = i} a_k$ max.\n",
    "\n",
    "<h3> Pattern Recognition </h3>\n",
    "\n",
    "Nhận dạng bài toán và kĩ thuật áp dụng:\n",
    "<ul>\n",
    "  <li>Tổng tiền tố</li>\n",
    "  <li>Quy hoạch động</li>\n",
    "  <li>Toán học</li>  \n",
    "  <li> Hai con trỏ </li>\n",
    "</ul>\n",
    "\n",
    "<h3>Algorithm Designed </h3>\n",
    "\n",
    "Input: Dãy số $a$ chứa $N$ phần tử ($N \\leq 10^6$) mang giá trị từ $-10^9$ đến $10^9$\n",
    "\n",
    "Output: Ba số nguyên $i$, $j$ ($i \\leq j \\leq N)$ và $sum$ là tổng lớn nhất. \n",
    "\n",
    "\n",
    "<h3> Programming </h3>"
   ]
  },
  {
   "cell_type": "code",
   "execution_count": null,
   "metadata": {},
   "outputs": [],
   "source": [
    "n = int(input())\n",
    "a = list(map(int, input().split()))\n",
    "sum, ans, l, r, L, R = 0, 0, 0, 0, -1, -1\n",
    "for i in range(n):\n",
    "      if (sum + a[i] >= 0):\n",
    "            sum += a[i]\n",
    "            if (sum > ans):\n",
    "                  ans, L, R, r = sum, l, i, i\n",
    "      else:\n",
    "            sum, l = 0, i+1\n",
    "print(L + 1, R + 1, ans) "
   ]
  },
  {
   "cell_type": "markdown",
   "metadata": {},
   "source": [
    "Độ phức tạp $O(N)$"
   ]
  }
 ],
 "metadata": {
  "kernelspec": {
   "display_name": "Python 3",
   "language": "python",
   "name": "python3"
  },
  "language_info": {
   "codemirror_mode": {
    "name": "ipython",
    "version": 3
   },
   "file_extension": ".py",
   "mimetype": "text/x-python",
   "name": "python",
   "nbconvert_exporter": "python",
   "pygments_lexer": "ipython3",
   "version": "3.7.6"
  }
 },
 "nbformat": 4,
 "nbformat_minor": 4
}
