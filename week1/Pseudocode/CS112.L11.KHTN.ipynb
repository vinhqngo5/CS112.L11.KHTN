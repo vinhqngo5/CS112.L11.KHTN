{
 "cells": [
  {
   "cell_type": "markdown",
   "metadata": {},
   "source": [
    "<h3> Abstraction </h3>\n",
    "\n",
    "Tìm dãy con liên tiếp từ $i$ đến $j$  với $i \\leq j \\leq n$ trên dãy $a$ sao cho $\\sum^j_{k = i} a_k$ max.\n",
    "\n",
    "<h3> Pattern Recognition </h3>\n",
    "\n",
    "Nhận dạng bài toán và kĩ thuật áp dụng:\n",
    "<ul>\n",
    "  <li>Tổng tiền tố</li>\n",
    "  <li>Quy hoạch động</li>\n",
    "  <li>Toán học</li>  \n",
    "  <li> Hai con trỏ </li>\n",
    "</ul>\n",
    "\n",
    "<h3>Algorithm Designed </h3>\n",
    "\n",
    "Input: Dãy số $a$ chứa $N$ phần tử ($N \\leq 10^6$) mang giá trị từ $-10^9$ đến $10^9$\n",
    "\n",
    "Output: Ba số nguyên $i$, $j$ ($i \\leq j \\leq N)$ và $sum$ là tổng lớn nhất. \n",
    "\n",
    "\n",
    "<h3> Programming </h3>"
   ]
  },
  {
   "cell_type": "code",
   "execution_count": null,
   "metadata": {},
   "outputs": [],
   "source": [
    "n = int(input())\n",
    "a = list(map(int, input().split()))\n",
    "sum, ans, l, r, L, R = 0, 0, 0, 0, -1, -1\n",
    "for i in range(n):\n",
    "      if (sum + a[i] >= 0):\n",
    "            sum += a[i]\n",
    "            if (sum > ans):\n",
    "                  ans, L, R, r = sum, l, i, i\n",
    "      else:\n",
    "            sum, l = 0, i+1\n",
    "print(L + 1, R + 1, ans) "
   ]
  },
  {
   "cell_type": "markdown",
   "metadata": {},
   "source": [
    "Độ phức tạp $O(N)$"
   ]
  }
 ],
 "metadata": {
  "kernelspec": {
   "display_name": "Python 3",
   "language": "python",
   "name": "python3"
  },
  "language_info": {
   "codemirror_mode": {
    "name": "ipython",
    "version": 3
   },
   "file_extension": ".py",
   "mimetype": "text/x-python",
   "name": "python",
   "nbconvert_exporter": "python",
   "pygments_lexer": "ipython3",
   "version": "3.7.6"
  }
 },
 "nbformat": 4,
 "nbformat_minor": 4
}
