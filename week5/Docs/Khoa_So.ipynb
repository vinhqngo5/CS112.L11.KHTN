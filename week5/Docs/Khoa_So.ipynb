{
  "nbformat": 4,
  "nbformat_minor": 0,
  "metadata": {
    "colab": {
      "name": "Khoa_So.ipynb",
      "provenance": [],
      "collapsed_sections": [],
      "include_colab_link": true
    },
    "kernelspec": {
      "display_name": "Python 3",
      "language": "python",
      "name": "python3"
    },
    "language_info": {
      "codemirror_mode": {
        "name": "ipython",
        "version": 3
      },
      "file_extension": ".py",
      "mimetype": "text/x-python",
      "name": "python",
      "nbconvert_exporter": "python",
      "pygments_lexer": "ipython3",
      "version": "3.8.2"
    }
  },
  "cells": [
    {
      "cell_type": "markdown",
      "metadata": {
        "id": "view-in-github",
        "colab_type": "text"
      },
      "source": [
        "<a href=\"https://colab.research.google.com/github/vinhqngo5/CS112.L11.KHTN_Team011/blob/master/week5/Docs/Khoa_So.ipynb\" target=\"_parent\"><img src=\"https://colab.research.google.com/assets/colab-badge.svg\" alt=\"Open In Colab\"/></a>"
      ]
    },
    {
      "cell_type": "markdown",
      "metadata": {
        "id": "leY8BdpeHL7Y"
      },
      "source": [
        "<h1>NHÓM 11</h1>\n",
        "<h2>Problem: Khóa số</h2>\n",
        "<span>Để tăng độ an toàn chống hiện tượng cướp ngân hàng ngày càng phổ biến người ta dùng khóa số với mã mở khóa đơn giản nhưng rất hiệu quả. Trên cửa ra vào hiển thị một xâu khá dài các ký tự số. Các chữ số có thể di chuyển đổi chổ cho nhau hoặc bị xóa. Muốn mở khóa người ta phải di chuyển các chữ số và trong trường hợp cần thiết – xóa vài chữ số để nhận được xâu lớn nhất thỏa mãn điều kiện đã cài đặt. Điều kiện này được thay đổi thường xuyên. Hôm nay điều kiện đó là “Số nhận được phải chia hết cho 3”. Số nhận được có thể bắt đầu bằng các chữ số 0. Xâu “000” sẽ lớn hơn xâu “00”.</span>\n",
        "\n",
        "<span>Hãy xác định khóa mở cửa.</span>\n",
        "\n",
        "<b>Dữ liệu:</b> Vào từ thiết bị nhập chuẩn gồm một xâu ký tự số có độ dài lớn hơn 2 và không vượt quá $10^5$.\n",
        "\n",
        "<b>Kết quả:</b> Đưa ra thiết bị xuất chuẩn một số nguyên – số ngày tính được.\n",
        "\n",
        "Ví dụ:\n",
        "<img src=\"https://github.com/vinhqngo5/CS112.L11.KHTN_Team011/blob/master/week5/Docs/images/khoa_so_example.jpg?raw=1\">\n",
        "<h2>1. Abstraction</h2>\n",
        "<span>Biến đổi một dãy số (đổi chỗ, xóa) sao cho dãy số đó tạo thành một số lớn nhất và chia hết cho 3</span>\n",
        "<h2>2. Algorithm Design </h2>\n",
        "\n",
        "<b>Nhận xét:</b>\n",
        "<ul>\n",
        "<li>Để tìm được số lớn nhất thì số chữ số cần xóa là ít nhất và chữ số được xóa là nhỏ nhất.\n",
        "<li>Có 3 trường hợp chia cho 3, chia hết cho 3, chia 3 dư 1, chia 3 dư 2\n",
        "</ul>\n",
        "\n",
        "Từ nhận xét trên chia thành 3 trường hợp Input:\n",
        "<ul>\n",
        "<li> Nếu Input đã là một số chia hết cho 3 thì đưa ra kết quả \n",
        "<li> Nếu Input chia hết cho 3 dư 1 thì phải xóa 1 chữ số lẻ nhỏ nhất hoặc 2 chữ số chẵn nhỏ nhất (nếu dãy số chỉ toàn là số chẵn)\n",
        "<li> Nếu Input chia hết cho 3 dư 2 thì phải xóa 1 chữ số chẵn nhỏ nhất hoặc 2 chữ số lẻ nhỏ nhất (nếu dãy chỉ toàn là các số lẻ)\n",
        "</ul>\n",
        "\n",
        "```\n",
        "\n",
        "count  # Mảng số chữ số \n",
        "mod_two, mod_one = [2, 5, 8], [1, 4, 7]  # Mảng chứa chữ số chẵn và chữ số lẻ\n",
        "sum = Tổng các chữ số\n",
        "\n",
        "if (sum % 3 == 1): # TH số chia hết cho 3 dư 1 \n",
        "    Xóa 1 chữ số lẻ nhỏ nhất\n",
        "    else:         # Nếu không có chữ số lẻ nào\n",
        "        Xóa 2 chữ số chẵn nhỏ nhất\n",
        "\n",
        "elif (sum % 3 == 2): # TH số chia hết cho 3 dư 2\n",
        "    Xóa 1 chữ số chẵn nhỏ nhất\n",
        "    else:         # Nếu không có chữ số chẵn nào\n",
        "        Xóa 2 chữ số lẻ nhỏ nhất\n",
        "\n",
        "Xuất kết quả\n",
        "\n",
        "        \n",
        "```"
      ]
    },
    {
      "cell_type": "code",
      "metadata": {
        "id": "KAnctoREM6sv"
      },
      "source": [
        "key = input().strip()\n",
        "sum, count, mod_two, mod_one = 0, [0] * 10, [2, 5, 8], [1, 4, 7]\n",
        "\n",
        "for i in key:\n",
        "    j = int(i)\n",
        "    sum += j\n",
        "    count[j] += 1\n",
        "\n",
        "if (sum % 3 == 1):\n",
        "    for i in mod_one:\n",
        "        if count[i] > 0:\n",
        "            count[i] -= 1\n",
        "            break\n",
        "    else:\n",
        "        delete = 2\n",
        "        for i in mod_two:\n",
        "            if count[i] >= 2:\n",
        "                count[i] -= 2\n",
        "                delete -= 2\n",
        "            elif count[i] == 1:\n",
        "                count[i] -= 1\n",
        "                delete -= 1\n",
        "            \n",
        "            if delete == 0:\n",
        "                break\n",
        "\n",
        "elif (sum % 3 == 2):\n",
        "    for i in mod_two:\n",
        "        if count[i] > 0:\n",
        "            count[i] -= 1\n",
        "            break\n",
        "    else:\n",
        "        delete = 2\n",
        "        for i in mod_one:\n",
        "            if count[i] >= 2:\n",
        "                count[i] -= 2\n",
        "                delete -= 2\n",
        "            elif count[i] == 1:\n",
        "                count[i] -= 1\n",
        "                delete -= 1\n",
        "            \n",
        "            if delete == 0:\n",
        "                break\n",
        "\n",
        "key = ''\n",
        "for i in range(10):\n",
        "    key += str(i) * count[i]\n",
        "\n",
        "print(key[::-1])"
      ],
      "execution_count": null,
      "outputs": []
    }
  ]
}