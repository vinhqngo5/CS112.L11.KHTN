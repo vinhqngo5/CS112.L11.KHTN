{
  "nbformat": 4,
  "nbformat_minor": 0,
  "metadata": {
    "colab": {
      "name": "SoNguyenMoi.ipynb",
      "provenance": [],
      "collapsed_sections": [],
      "authorship_tag": "ABX9TyO1XxEvUg4klR9iC2zD5voq",
      "include_colab_link": true
    },
    "kernelspec": {
      "name": "python3",
      "display_name": "Python 3"
    }
  },
  "cells": [
    {
      "cell_type": "markdown",
      "metadata": {
        "id": "view-in-github",
        "colab_type": "text"
      },
      "source": [
        "<a href=\"https://colab.research.google.com/github/vinhqngo5/CS112.L11.KHTN_Team011/blob/master/week11/Docs/SoNguyenMoi.ipynb\" target=\"_parent\"><img src=\"https://colab.research.google.com/assets/colab-badge.svg\" alt=\"Open In Colab\"/></a>"
      ]
    },
    {
      "cell_type": "markdown",
      "metadata": {
        "id": "dFY4wPk2igkY"
      },
      "source": [
        "<h1>NHÓM 11</h1>\n",
        "<h1>ĐỀ BÀI: SỐ NGUYÊN MỚI</h1>\n",
        "\n",
        "Cho số nguyên dương $n$ có không quá 100 chữ số. Hãy xác định số nguyên lớn nhất $m$ chia hết cho 3 và khác $n$ ở đúng một chữ số.\n",
        "\n",
        "Ví dụ, $n$ = 123 thì $m$ sẽ là 723.\n",
        "\n",
        "<b>Dữ liệu:</b> Vào từ thiết bị nhập chuẩn gồm một dòng chứa số nguyên n có không quá 100 chữ số và không chứa các số 0 không có nghĩa.\n",
        "\n",
        "<b>Kết quả:</b> Đưa ra thiết bị xuất chuẩn số nguyên m tìm được.\n",
        "\n",
        "<h2>1. Abstraction</h2>\n",
        "Tìm một số lớn nhất chia hết cho 3 mà có duy nhất một chữ số khác với số cho trước\n",
        "<h2>2. Algorithm Design</h2>\n",
        "<b>Ý tưởng:</b>\n",
        "\n",
        "- Vì là tìm số lớn nhất nên ta sẽ ưu tiên tăng các số ở đầu để có thể thu được số lớn nhất\n",
        "\n",
        "    <b> Ví dụ: </b> 914 thì lần lượt xét số đầu tiên là số 1, ta thấy được số đầu tiên là 9 không thể tăng được nữa. Ta xét tiếp số thứ hai là 1, thấy được nếu tăng lên 8 thì thỏa mãn yêu cầu bài toán => số cần tìm là 984\n",
        "\n",
        "- Tuy nhiên có trường hợp ta xét lần lượt tất cả các số thì không có số nào có thể tăng được nên ta nghĩ ngay đến việc sẽ giảm chữ số cuối cùng một lượng ít nhất để số đó vẫn chia hết cho 3 và là số lớn nhất\n",
        "\n",
        "    <b> Ví dụ: </b>  999 nếu ta xét lần lượt từ đầu đến cuối thì không có chữ số nào có thể tăng được nên ta sẽ giảm chữ số cuối cùng thành 9 - 3 = 6 => kết quả là 996\n",
        "\n",
        "<b>Pseudocode<b>\n",
        "\n",
        "\n",
        "\n",
        "```\n",
        "Nhập số\n",
        "sum = Tổng các chữ số\n",
        "plus = 3 - sum % 3  # lượng mà chữ số cần cộng thêm để chia hết cho 3\n",
        "minus = sum % 3 # lượng mà chữ số cuối cùng cần trừ để chia hết cho 3\n",
        "If minus == 0 then minus = 3\n",
        "Xét lần lượt các chữ số theo thứ tự từ đầu đến cuối:\n",
        "    If chữ số + plus <= 9 :\n",
        "        cứ cộng chữ số đó một lượng plus đến khi chữ số đó > 9\n",
        "        Xuất kết quả\n",
        "    Else tiếp tục xét chữ số tiếp\n",
        "If không có chữ số nào được cộng:\n",
        "    trừ chữ số cuối cùng một lượng minus\n",
        "```\n",
        "\n",
        "<h2>3. Implement Code</h2>\n",
        "Accepted Sourcecode\n",
        "\n"
      ]
    },
    {
      "cell_type": "code",
      "metadata": {
        "colab": {
          "base_uri": "https://localhost:8080/"
        },
        "id": "vSAyHZFhiWA-",
        "outputId": "ede7b749-1db5-44fc-f899-04e6d6324c65"
      },
      "source": [
        "string = input()\n",
        "sum = 0\n",
        "for character in string:\n",
        "    sum += int(character)\n",
        "plus = 3 - sum % 3\n",
        "minus = sum % 3 \n",
        "pos, num = 0, 0\n",
        "if (minus == 0):\n",
        "    minus = 3\n",
        "for character_pos in range(len(string)):\n",
        "    can_be_added = False\n",
        "    i = int(string[character_pos])\n",
        "    if (i + plus <= 9):\n",
        "        i += plus\n",
        "        while (i + 3 <= 9):\n",
        "            i += 3\n",
        "        can_be_added = True\n",
        "    if (can_be_added):\n",
        "        pos = character_pos\n",
        "        num = i\n",
        "        break\n",
        "if (can_be_added):\n",
        "    print(string[:pos] + str(num) + string[pos + 1:])\n",
        "else:\n",
        "    print(string[:-1] + str(int(string[-1]) - minus))"
      ],
      "execution_count": 3,
      "outputs": [
        {
          "output_type": "stream",
          "text": [
            "999\n",
            "996\n"
          ],
          "name": "stdout"
        }
      ]
    },
    {
      "cell_type": "code",
      "metadata": {
        "id": "-v7d9l44lmo3"
      },
      "source": [
        ""
      ],
      "execution_count": null,
      "outputs": []
    }
  ]
}