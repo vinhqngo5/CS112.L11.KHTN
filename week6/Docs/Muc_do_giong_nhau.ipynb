{
  "nbformat": 4,
  "nbformat_minor": 0,
  "metadata": {
    "colab": {
      "name": "WEEK6_P1.ipynb",
      "provenance": [],
      "authorship_tag": "ABX9TyON/eUyWCbUraawoJGJtUtu",
      "include_colab_link": true
    },
    "kernelspec": {
      "name": "python3",
      "display_name": "Python 3"
    }
  },
  "cells": [
    {
      "cell_type": "markdown",
      "metadata": {
        "id": "view-in-github",
        "colab_type": "text"
      },
      "source": [
        "<a href=\"https://colab.research.google.com/github/vinhqngo5/CS112.L11.KHTN_Team011/blob/master/week6/Docs/Muc_do_giong_nhau.ipynb\" target=\"_parent\"><img src=\"https://colab.research.google.com/assets/colab-badge.svg\" alt=\"Open In Colab\"/></a>"
      ]
    },
    {
      "cell_type": "markdown",
      "metadata": {
        "id": "ssPTHEYPPV21"
      },
      "source": [
        "<h1>NHÓM 11</h1>\n",
        "<h2>Problem: Mức độ giống nhau </h2>\n",
        "Một quần thể sinh vật ngoài hành tinh có gene tạo thành từ 26 cơ sở ký hiệu từ <b>A</b> tới <b>Z</b>. Mỗi gene là một xâu ký tự các chữ cái la tinh hoa. Hai cá thể khác nhau có gene khác nhau. Mức độ giống nhau của 2 gene sẽ xác định độ huyết thống của chúng.\n",
        "\n",
        "Độ giống nhau của gene thứ nhất đối với gene thứ 2 là số lượng cặp 2 cơ sở liên tiếp nhau trong gene thứ nhất đồng thời là cặp 2 cơ sở liên tiếp nhau trong gene thứ hai.\n",
        "\n",
        "<img src=\"images/Giong_nhau_example1.JPG\">\n",
        "\n",
        "Ví dụ, gene thứ nhất là <b>ABBACAB</b>, gene thứ 2 là <b>BCABB</b> thì mức độ giống nhau là 4.\n",
        "\n",
        "Cho hai gene. Hãy xác định mức độ giống nhau của gene thứ nhất với gene thứ 2.\n",
        "\n",
        "<b>Dữ liệu:</b> Vào từ thiết bị nhập chuẩn bao gồm 2 dòng chứa 2 xâu khác rỗng xác định gene thứ nhất và gene thứ 2, mỗi xâu chỉ chứa các ký tự chữ cái in hoa và có độ dài không quá $10^5$.\n",
        "\n",
        "<b>Kết quả:</b> Đưa ra thiết bị xuất chuẩn một số nguyên – mức độ giống nhau của 2 genes.\n",
        "\n",
        "Ví dụ:\n",
        "<img src=\"images/Giong_nhau_example2.JPG\">\n",
        "\n",
        "<h2>1. Abstraction</h2>\n",
        "Cho hai xâu S1 và S2, tìm tống số lượng các cặp 2 kí tự liên tiếp nhau trong S1 trùng với 2 kí tự liên tiếp nhau trong S2\n",
        "\n",
        "<h2>2. Pattern Recognition </h2>\n",
        "Ý tưởng :Duyệt lần lượt mỗi lần 2 kí tự liên tiếp nhau trong S2, rồi tìm số lần xuất hiện 2 kí tự đó trong S1 cộng vào biến res. Khi đã duyệt hết S2, thu được kết quả là giá trị biến res\n",
        "\n",
        "$\\rightarrow$ Dạng bài Tìm kiếm tuần tự\n",
        "\n",
        "<h2>3. Algorithm Design </h2>\n",
        "Thay vì mỗi lần xét 2 kí tự của S2 phải duyệt tuần tự để tìm kiếm số lần xuất hiện trong S1 thì ta tạo một dictionary lưu tần suất xuất hiện của mỗi 2 kí tự liên tiếp trong S1. Khi đó, mỗi lần xét 2 kí tự trong S2 ta chỉ cần tìm số lần xuất hiện 2 kí tự đó trong dictionary mà ta vừa tạo.\n",
        "\n",
        "```\n",
        "Nhập chuỗi a,b\n",
        "for i in range(len(a)-1):\n",
        "    sub_str = 2 kí tự liên tiếp nhau\n",
        "    if sub_str đã có trong dictionary:\n",
        "        dictionary[sub_str] tăng thêm 1\n",
        "    Ngược lại: \n",
        "        bổ sung sub_str vào dictionary rồi gán giá trị bằng 1\n",
        "\n",
        "res = 0\n",
        "for i in range(len(b)-1):\n",
        "    sub_str = 2 kí tự liên tiếp nhau\n",
        "    if sub_str đã có trong dictionary:\n",
        "        res += giá trị của sub_str trong dictionary\n",
        "```"
      ]
    },
    {
      "cell_type": "code",
      "metadata": {
        "id": "mQdZhCJ7QK5V"
      },
      "source": [
        "a = str(input())\n",
        "b = str(input())\n",
        "\n",
        "diction = {}\n",
        "for i in range(len(a)-1):\n",
        "    sub_str = a[i] + a[i+1]\n",
        "    if sub_str in diction:\n",
        "        diction[sub_str] += 1\n",
        "    else:\n",
        "        diction[sub_str] = 1\n",
        "\n",
        "res = 0\n",
        "for i in range(len(b)-1):\n",
        "    sub_str = b[i] + b[i+1]\n",
        "    if sub_str in diction:\n",
        "        res += diction[sub_str]\n",
        "        diction[sub_str] = 0\n",
        "\n",
        "print(res)"
      ],
      "execution_count": null,
      "outputs": []
    }
  ]
}