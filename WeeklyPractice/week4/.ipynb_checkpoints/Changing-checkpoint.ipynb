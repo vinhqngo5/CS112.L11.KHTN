{
 "cells": [
  {
   "cell_type": "code",
   "execution_count": null,
   "metadata": {},
   "outputs": [],
   "source": [
    "a, k, b, m, n = map(int, input().split())\n",
    "l, r = 1, n\n",
    "res = n\n",
    "while (True):\n",
    "    pivot = (l + r)  // 2\n",
    "    sub_pivot = n - pivot\n",
    "    day_1 = (pivot - 1) // a + 1 + pivot // (a * (k - 1))\n",
    "    day_2 = (sub_pivot - 1) // b + 1 + sub_pivot // (a * (m - 1))\n",
    "    if (day_1 == day_2):\n",
    "        res = day_1\n",
    "\n",
    "print(day_1)\n",
    "    "
   ]
  }
 ],
 "metadata": {
  "kernelspec": {
   "display_name": "Python 3",
   "language": "python",
   "name": "python3"
  },
  "language_info": {
   "codemirror_mode": {
    "name": "ipython",
    "version": 3
   },
   "file_extension": ".py",
   "mimetype": "text/x-python",
   "name": "python",
   "nbconvert_exporter": "python",
   "pygments_lexer": "ipython3",
   "version": "3.8.3"
  }
 },
 "nbformat": 4,
 "nbformat_minor": 4
}
