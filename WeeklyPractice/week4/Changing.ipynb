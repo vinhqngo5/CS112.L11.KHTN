{
 "cells": [
  {
   "cell_type": "code",
   "execution_count": 79,
   "metadata": {},
   "outputs": [
    {
     "name": "stdout",
     "output_type": "stream",
     "text": [
      "1 2 358457952 2 358457954\n",
      "3\n"
     ]
    }
   ],
   "source": [
    "import math\n",
    "a, k, b, m, n = map(int, input().split())\n",
    "l, r, res = 1, n, 1000000000000000000\n",
    "\n",
    "while (l <= r):\n",
    "    pivot = (l + r)  // 2\n",
    "    day_1 = math.ceil(pivot / a) + math.ceil(pivot / (a * (k - 1))) - 1\n",
    "    day_2 = math.ceil((n - pivot) / b) + math.ceil((n - pivot) / (b * (m - 1))) - 1\n",
    "    \n",
    "    res = min(res, max(day_1, day_2))\n",
    "    if (day_1 == day_2):\n",
    "        break\n",
    "    elif (day_1 < day_2):\n",
    "        l = pivot + 1\n",
    "    else:\n",
    "        r = pivot - 1\n",
    "    \n",
    "\n",
    "print(res)\n",
    "    "
   ]
  },
  {
   "cell_type": "code",
   "execution_count": 80,
   "metadata": {},
   "outputs": [
    {
     "name": "stdout",
     "output_type": "stream",
     "text": [
      "1 2 358457952 2 358457954\n",
      "3\n"
     ]
    }
   ],
   "source": [
    "a, k, b, m, n = map(int, input().split())\n",
    "\n",
    "l, r, ans = 1, 100000000000000000000, 0\n",
    "while (l <= r):\n",
    "    mid = (l + r) // 2\n",
    "    day = mid * a - (mid // k) * a + mid * b - (mid // m) * b\n",
    "    if (day >= n):\n",
    "        r = mid - 1\n",
    "        ans = mid\n",
    "    else:\n",
    "        l = mid + 1\n",
    "\n",
    "print(ans)"
   ]
  }
 ],
 "metadata": {
  "kernelspec": {
   "display_name": "Python 3",
   "language": "python",
   "name": "python3"
  },
  "language_info": {
   "codemirror_mode": {
    "name": "ipython",
    "version": 3
   },
   "file_extension": ".py",
   "mimetype": "text/x-python",
   "name": "python",
   "nbconvert_exporter": "python",
   "pygments_lexer": "ipython3",
   "version": "3.8.3"
  }
 },
 "nbformat": 4,
 "nbformat_minor": 4
}
