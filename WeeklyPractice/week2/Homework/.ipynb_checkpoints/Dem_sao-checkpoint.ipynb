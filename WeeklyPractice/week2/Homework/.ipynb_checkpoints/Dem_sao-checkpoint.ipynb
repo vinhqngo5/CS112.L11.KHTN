{
 "cells": [
  {
   "cell_type": "markdown",
   "metadata": {
    "colab_type": "text",
    "id": "view-in-github"
   },
   "source": [
    "<a href=\"https://colab.research.google.com/github/vinhqngo5/CS112.L11.KHTN_Team011/blob/master/CS112.ipynb\" target=\"_parent\"><img src=\"https://colab.research.google.com/assets/colab-badge.svg\" alt=\"Open In Colab\"/></a>"
   ]
  },
  {
   "cell_type": "markdown",
   "metadata": {
    "colab_type": "text",
    "id": "iKXSDJcUkVVd"
   },
   "source": [
    "<h3> <b> Problems </b> </h3>\n",
    "\n",
    "Anh và Tân thích ngắm sao cùng nhau. Hai bạn ngồi dưới đất tay trong tay và nhìn lên bầu trời. Nhưng lại có một cái cây cao che khuất tầm nhìn, chia bầu trời thành hai phần. Hai bạn xem cái cây là một đường đánh dấu: phần bên phải có tên là Tom và phần bên trái có tên là Jerry. Anh là một người rất thích đếm sao nên bạn ấy biết chính xác có $n$ sao bên phần của mình. Nhưng lần này bạn ấy muốn thử một điều gì đó khác nên đã tưởng tượng ra một hệ trục tọa độ có trục Ox là đường thẳng trùng với phần mặt đất ở bên trái của cây và Oy là đường thẳng đứng trùng với cây (xem hình)\n",
    "\n",
    "Để thêm phần thú vị. Anh tưởng tượng ra 2 tia có gốc trùng với gốc tọa độ tạo thành 2 góc $\\alpha _1$ và $\\alpha _2$ với Ox\n",
    "\n",
    "<img src=\"img1.png\">\n",
    "\n",
    "Anh chọn bất kì một trong những ngôi sao nằm giữa 2 tia đó. Chú ý rằng Anh không thể chọn ngôi sao nằm trên một trong hai tia. Sau đó Anh lại tưởng tượng thêm 2 tia nữa mà 2 tia này có gốc ở ngôi sao mà Anh vừa chọn sao cho 2 tia này tạo với Ox thành 2 góc $\\alpha _1$ và $\\alpha _2$. Anh cứ lặp đi lặp lại cho đến khi không thể chọn được một ngôi sao nào nằm giữa 2 tia nữa.\n",
    "\n",
    "<img src=\"img2.png\">\n",
    "\n",
    "Kết quả là Anh có được một chuỗi các ngôi sao.\n",
    "\n",
    "Tìm số lượng $m$ sao lớn nhất mà Anh có được.\n",
    "Lưu ý rằng chuỗi các sao phải bắt đầu từ gốc tọa độ\n",
    "\n",
    "<b>Input</b>\n",
    "\n",
    "<ul>\n",
    "<li>Dòng đầu tiên chưa số nguyên $n$ $(1\\leqslant n\\leqslant 10^5)$ là số lượng ngôi sao.\n",
    "<li>Dòng thứ hai chứa 2 phân số \"a/b\" và \"c/d\" với $\\frac{a}{b} = \\frac{sin\\alpha _1}{cos\\alpha _1}$ , \n",
    "$\\frac{c}{d} = \\frac{sin\\alpha _2}{cos\\alpha _2}$,\n",
    "$(0 \\leqslant a,b,c,d \\leqslant 10^5,\n",
    " 0^{\\circ} \\leqslant \\alpha _1 < \\alpha _2 \\leqslant 90^{\\circ})$\n",
    "và a,b,c,d là các số nguyên\n",
    "<li>$n$ Dòng tiếp theo chưa các cặp $x_i,y_i$ $(1 \\leqslant x_i, y_i \\leqslant 10^5)$ là tọa độ các ngôi sao.\n",
    "</ul>\n",
    "\n",
    "<b>Output</b>\n",
    "In ra $m$ sao là số lượng sao lớn nhất mà Anh có được\n",
    "\n",
    "<b>Ví dụ</b>\n",
    "<img src=\"img3.png\">\n",
    "\n",
    "<img src=\"img4.png\">\n",
    "<h3> <b> Abstraction </b> </h3>\n",
    "\n",
    "Tìm \\\\( k \\\\) lớn nhất sao cho \\\\( (x_1, y_1), (x_2, y_2),.. (x_k, y_k) \\\\) thoả mãn điều kiện \\\\( \\alpha_1 < \\frac{y_{i+1} - y_i}{x_{i+1} - x_i} < \\alpha_2, 1 \\leq i < k \\\\) \n",
    "\n",
    "<h3> <b> Pattern Recognition </b> </h3>\n",
    "\n",
    "Bằng các trạng thái không trùng lặp được liên kết với nhau bằng mối quan hệ \\\\( \\alpha_1 < \\frac{y_{i+1} - y_i}{x_{i+1} - x_i} < \\alpha_2, 1 \\leq i < k \\\\), ta có thể nhận ra đây là một dạng bài toán điển hình của <b>quy hoạch động</b> khi nhắc đến chuỗi con không liên tiếp và tối ưu hoá độ dài của nó.\n",
    "\n",
    "<h3> <b> Algorithm Design </b> </h3>\n",
    "\n",
    "a.Cách tiếp cận sơ khai \n",
    "\n",
    "Vì đây là kiểu bài quy hoạch động điển hình, ta có thể gọi \\\\( dp[i] \\\\) là độ dài dãy con dài nhất khi xét đến vị trí i của tập điểm chứa điểm i đó.\n",
    "\n",
    "Từ cách gọi trên, ta có được sự tương quan giữa 2 trạng thái:\n",
    "<blockquote>\n",
    "\\\\( dp[i] = max(dp[j]) + 1, \\forall j < i,  \\alpha_1 < \\frac{y_{i} - y_j}{x_{i } - x_j} < \\alpha_2\\\\) </blockquote>\n",
    "\n",
    "Tuy nhiên việc tối ưu bài toán lớn thông qua những bài toán con cần phải có một thứ tự nhất định. Ở đây ta có nhận xét các tập điểm nhìn thấy nhau luôn có hoành độ x tăng dần (điều này luôn đúng khi hệ số góc \\\\( \\alpha_1 \\geq 0\\\\)). Vì thế ta cần phải sắp xếp tập điểm theo độ tăng dần của x để có được thứ tự tối ưu hợp lý.\n",
    "\n",
    "Ta có thể hình dung qua đoạn pseudocode như sau:\n",
    "\n",
    "```\n",
    "procedure Dynamic_Programming:\n",
    "begin\n",
    "    sort(x, y)\n",
    "    for i:=1 to n do \n",
    "      for j:=1 to i-1 do \n",
    "    begin\n",
    "        angular = (y[i] - y[j]) / (x[i] - x[j])\n",
    "        if (alpha1 < angular < alpha2) then\n",
    "            dp[i] = max(dp[i], dp[j] + 1)\n",
    "    end\n",
    "    return max(dp)\n",
    "end\n",
    "```\n",
    "Về mặt thời gian, cách tiếp cận này không đủ đáp ứng giới hạn bài toán và chỉ dừng lại ở độ phức tạp rất lớn \\\\( \\Rightarrow O(N^2) \\\\)\n",
    "\n",
    "Code đầy đủ cho trường hợp \\\\( O(N^2) \\\\):\n",
    "\n",
    "\n",
    "\n",
    "\n"
   ]
  },
  {
   "cell_type": "markdown",
   "metadata": {
    "colab_type": "text",
    "id": "qh2vK1--yMmT"
   },
   "source": [
    "1. Nhập input"
   ]
  },
  {
   "cell_type": "code",
   "execution_count": null,
   "metadata": {
    "colab": {},
    "colab_type": "code",
    "id": "68lUxMz0xtbo"
   },
   "outputs": [],
   "source": [
    "n = int(input())\n",
    "a, c = input().split()\n",
    "a, b = [int(x) for x in a.split('/')]\n",
    "c, d = [int(x) for x in c.split('/')]\n",
    "\n",
    "data = [[0, 0]] * (n+1)\n",
    "\n",
    "for i in range(n):\n",
    "      X, Y = input().split()\n",
    "      X, Y = int(X), int(Y)\n",
    "      data[i] = [X, Y]"
   ]
  },
  {
   "cell_type": "markdown",
   "metadata": {
    "colab_type": "text",
    "id": "AokP1-2-yBzf"
   },
   "source": [
    "2. Hàm \\\\( check(a, b, m, n, x, y) \\\\)  kiểm tra hệ số góc đường thẳng tạo bởi hai điểm \\\\( a\\\\) và \\\\( b\u001d",
    "\\\\) có nằm  giữa hai góc \\\\(\\frac{m}{n}\\\\) và \\\\( \\frac{x}{y} \\\\) hay không."
   ]
  },
  {
   "cell_type": "code",
   "execution_count": null,
   "metadata": {
    "colab": {},
    "colab_type": "code",
    "id": "8DEdBqSfyAjL"
   },
   "outputs": [],
   "source": [
    "def check(a, b, m, n, x, y):\n",
    "      temp = (a[1] - b[1]) / (a[0] - b[0])\n",
    "      if (y == 0):\n",
    "            y = 100000\n",
    "      else:\n",
    "            y = x / y\n",
    "      x = m / n\n",
    "      return x < temp < y"
   ]
  },
  {
   "cell_type": "markdown",
   "metadata": {
    "colab_type": "text",
    "id": "gIqp4JIBy5y9"
   },
   "source": [
    "3. Thực thi lại pseudocode đã nêu trên"
   ]
  },
  {
   "cell_type": "code",
   "execution_count": null,
   "metadata": {
    "colab": {},
    "colab_type": "code",
    "id": "pv1O3zjXy3n_"
   },
   "outputs": [],
   "source": [
    "data = sorted(data, reverse=True)\n",
    "dp = [0] * (n+1) \n",
    "for i in range(1, n+1):\n",
    "      for j in range(i):\n",
    "            if check(data[i], data[j], a, b, c , d):\n",
    "                  dp[i] = max(dp[i], dp[j] + 1)\n",
    "print(dp[n])"
   ]
  },
  {
   "cell_type": "markdown",
   "metadata": {
    "colab_type": "text",
    "id": "rw7VVTexxkGF"
   },
   "source": [
    "b. Cách tiếp cận tối ưu"
   ]
  }
 ],
 "metadata": {
  "colab": {
   "include_colab_link": true,
   "name": "CS112.ipynb",
   "provenance": []
  },
  "kernelspec": {
   "display_name": "Python 3",
   "language": "python",
   "name": "python3"
  },
  "language_info": {
   "codemirror_mode": {
    "name": "ipython",
    "version": 3
   },
   "file_extension": ".py",
   "mimetype": "text/x-python",
   "name": "python",
   "nbconvert_exporter": "python",
   "pygments_lexer": "ipython3",
   "version": "3.8.2"
  }
 },
 "nbformat": 4,
 "nbformat_minor": 1
}
