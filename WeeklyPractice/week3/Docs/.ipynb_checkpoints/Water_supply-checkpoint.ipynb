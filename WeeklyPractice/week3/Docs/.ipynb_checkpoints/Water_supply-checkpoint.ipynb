{
 "cells": [
  {
   "cell_type": "markdown",
   "metadata": {},
   "source": [
    "<h1>Nhóm 11</h1>\n",
    "<h1>Problems_Khôi phục hệ thống cấp nước:</h1>\n",
    "<br>\n",
    "<i><b>Đề bài</b></i>: Vùng đất diệu kỳ Wonderland có <b>N</b> hộ gia đình đã được trang bị một hệ thống cung cấp nước sạch đến từng ngôi nhà. Mỗi đường ống nối trực tiếp 2 nhà, nước chảy trong đường ống theo 2 chiều, có thể truyền qua nhiều trung gian trước khi đến một nhà nào đó. Trong hồ sơ lưu trữ, các ngôi nhà được ghi số từ 1 đến <b>N</b>.\n",
    "\n",
    "Một trận động đất đã gây nên sự cố nghiêm trọng làm cho cả vùng bị chia cắt thành nhiều khu vực rời nhau, không còn tiếp cận được với nguồn nước. Để khắc phục, những người có trách nhiệm đã khảo sát hiện trạng và ghi nhận được toàn vùng đất đang thảm họa vẫn còn <b>M</b> đường ống đang hoạt động tốt.\n",
    "\n",
    "Nhiệm vụ đặt ra là phải khôi phục hệ thống cấp nước bằng cách lắp thêm một số đường ống. Tuy nhiên, do hạn chế về thời gian và kinh phí nên đòi hỏi phương án khôi phục phải được thực hiện với ít đường ống được lắp thêm nhất. Câu hỏi đặt ra: cần lắp thêm ít nhất bao nhiêu đường ống để hệ thống cấp nước có thể đưa nước đến từng ngôi nhà. Câu hỏi phụ: có bao nhiêu phương án khác nhau đáp ứng yêu cầu; số phương án có thể khá lớn nên chỉ cần đưa ra số dư khi chia cho 109+7.</b>\n",
    "\n",
    "<br>\n",
    "<i><b>Dữ liệu: </b></i>\n",
    "<ul>\n",
    "    <li> Dòng đầu tiên chứa 2 số nguyên $N, M (1 ≤ N, M  ≤ 10^5)$</li>\n",
    "    <li> Mỗi dòng trong <b>M</b> dòng tiếp theo chứa 2 số nguyên $a, b (1 ≤ a,  b ≤ N)$. cho biết vẫn còn đường ống nối nhà <b>a</b> với nhà <b>b</b> </li>\n",
    "</ul>\n",
    "\n",
    "<i><b>Kết quả: </b></i>Đưa ra thiết bị xuất chuẩn số đường ống cần được lắp thêm và số phương án đáp ứng yêu cầu (theo mô đun $10^9+7$) mỗi số trên một dòng.\n",
    "\n",
    "<i><b>Dư liệu mẫu: </b></i>\n",
    "<img src=\"images/Screenshot 2020-09-29 084513.png\" width=150 height=250>"
   ]
  },
  {
   "cell_type": "markdown",
   "metadata": {},
   "source": [
    "<h2>Abstraction</h2>\n",
    "\n",
    "Đầu tiên ta sẽ coi như mỗi căn nhà trong đề bài là một đỉnh của đồ thị, mỗi đường ống dẫn nước giữa 2 căn nhà sẽ là 1 cạnh trong đồ thị đó. Vì đề bài không phân biệt hướng chảy của nước nên ta sẽ coi đây là đồ thị vô hướng, từ dữ liệu mẫu, ta có được đồ thị sau:\n",
    "<img src=\"images/Screenshot 2020-09-29 084954.png\" height=200 width=200>\n",
    "Lúc này, mỗi cụm các đỉnh có thể đi qua lại với nhau sẽ tạo thành 1 thành phần liên thông, và dữ liệu có thể tạo thành nhiều thành phần liên thông. Bài toán bây giờ sẽ quy về dạng: Tìm số cạnh ít nhất để nối tất cả thành phần liên thông tạo thành một và số cách tạo ra các cạnh ấy"
   ]
  },
  {
   "cell_type": "markdown",
   "metadata": {},
   "source": [
    "<h2>Pattern Recognition and Algorithm Design</h2>\n",
    "\n",
    "Dựa vào đề bài toán và ví dụ, ta có thể rút ra các suy luận sau:\n",
    "<ul>\n",
    "    <li>Các đỉnh khi nối với nhau sẽ tạo thành các cụm không giao nhau, các cụm này được gọi là Disjoint Sets (DSU)</li>\n",
    "    <li>Sau khi tính toán ta sẽ tính ra được số cụm không giao nhau, giả sử có k cụm như vậy $\\rightarrow$ cần ít nhất $k - 1$ cạnh để kết nối các cụm không giao nhau thành 1 thành phần liên thông</li>\n",
    "</ul>\n",
    "    <h4>Pseudocode cho DSU: </h4>"
   ]
  },
  {
   "cell_type": "code",
   "execution_count": null,
   "metadata": {},
   "outputs": [],
   "source": [
    "# Tìm đỉnh gốc của đỉnh u\n",
    "Hàm_tính_đỉnh_gốc_của_đỉnh_u(int u):\n",
    "    u <- Đỉnh đang xét\n",
    "    root_arr[u] <- Đỉnh cha của đỉnh đang xét\n",
    "    while (u != root_arr[u])\n",
    "        root_arr[u] = root_arr(root_arr[u])\n",
    "    return root_arr[u]\n",
    "\n",
    "\n",
    "#Trộn 2 đỉnh u và v với nhau\n",
    "Hàm_trộn_2_cụm(int u, int v):\n",
    "    u, v <- 2 đỉnh thuộc 2 cụm cần trộn\n",
    "    Nếu (root(u) != root(v)) #u và v thuộc 2 cụm khác nhau\n",
    "        Nếu (count[root(u)] > count[root(v)])\n",
    "            Trộn v vào u\n",
    "        Không thì:\n",
    "            Trộn u vào v\n",
    "        "
   ]
  },
  {
   "cell_type": "markdown",
   "metadata": {},
   "source": [
    "<h4>SourceCode cho DSU:</h4>"
   ]
  },
  {
   "cell_type": "code",
   "execution_count": null,
   "metadata": {},
   "outputs": [],
   "source": [
    "# Nhập dữ liệu\n",
    "# n, m lần lượt là số căn hộ và số đường ống cấp nước có trong đề bài\n",
    "n, m = map(int, input().split())\n",
    "# Với mỗi căn hộ, ta gán cho đỉnh gốc của đỉnh đó bằng chính nó\n",
    "root_arr = [i for i in range(n)]\n",
    "# count sẽ đếm xem trong cụm mà chứa đỉnh đó có bao nhiêu đỉnh\n",
    "count = [1 for _ in range(n)]\n",
    "# Đây là các biến dùng để lưu đáp án, res lưu số đỉnh của mỗi thành phần liên thông\n",
    "# final_ans lưu số cách tạo thành \n",
    "res = []\n",
    "final_ans = 1\n",
    "mod = 1000000007\n",
    "\n",
    "\n",
    "# Tìm kiếm xem đỉnh gốc của đỉnh u là ở đâu \n",
    "def root(u):\n",
    "    global root_arr\n",
    "    v = u\n",
    "    while (u != root_arr[u]):\n",
    "        u = root_arr[u]\n",
    "    root_arr[v] = u\n",
    "    return u\n",
    "\n",
    "#Khi u khác cụm v, nếu cụm nào chứa nhiều đỉnh hơn, sẽ trộn cụm\n",
    "#ít hơn vào cụm nhiều hơn và đếm lại số đỉnh trong cụm\n",
    "def merge(u, v):\n",
    "    \n",
    "    global root_arr\n",
    "    global count\n",
    " \n",
    "    u = root(u)\n",
    "    v = root(v)\n",
    "\n",
    "    if (u != v):\n",
    "        if (count[u] > count[v]):\n",
    "            root_arr[v] = u\n",
    "            count[u] += count[v]\n",
    "        else:\n",
    "            root_arr[u] = v\n",
    "            count[v] += count[u]\n",
    "\n",
    "#Nhập dữ liệu đề bài, vừa nhập vừa trộn 2 cụm với nhau\n",
    "for i in range(m):\n",
    "    a, b =  input().split()\n",
    "    a = int(a) - 1\n",
    "    b = int(b) - 1\n",
    "    merge(a, b)\n"
   ]
  },
  {
   "cell_type": "markdown",
   "metadata": {},
   "source": [
    "Sau bước này, bài toán đã tính ra được các cụm, chỉ cần đếm số cụm có số hiệu bằng với số hiệu của đỉnh gốc $\\rightarrow$ Số cụm có trong đồ thị. Lúc này, số cạnh cần gắn thêm ít nhất là $k - 1$. Tiếp tục phân tích bài toán:\n",
    "<ul>\n",
    "    <li>Lúc này chúng ta có k cụm phân biệt, coi mỗi cụm là một đỉnh, ta cần tìm số cách làm cho các đỉnh này liên thông với nhau $\\rightarrow$ cần tìm cây khung đi qua các cụm $\\rightarrow$ trở thành bài toán đếm số cách tạo cây khung</li>\n",
    "    <li>Tuy nhiên, khi đếm số cách tạo cây khung sẽ có vài điểm khác biệt, bởi vì mỗi đỉnh của cây khung này sẽ có các kích thước (số đỉnh trong cụm), vậy nên khi mỗi cạnh nối với đỉnh $i$ sẽ cần nhân số cách với $count_{i}$\n",
    "    <li>Dựa vào cách chứng minh trên, ta sẽ chứng minh ra được, số cách tạo thành cây khung sẽ là:\n",
    "        <blockquote>\n",
    "            Số cách tạo = $count_{1}.count_{2}...count_{k}.n^{k-2}$\n",
    "            <br>\n",
    "            Chứng minh chi tiết tại: <a href=\"https://cp-algorithms.com/graph/pruefer_code.html\">Link chứng minh</a>\n",
    "        </blockquote>\n",
    "    </li>\n",
    "</ul>\n",
    "    <h4>SourceCode cho tính số cách tạo: </h4>"
   ]
  },
  {
   "cell_type": "code",
   "execution_count": null,
   "metadata": {},
   "outputs": [],
   "source": [
    "# Caculate answer\n",
    "#Tính số đỉnh có trong mỗi cụm\n",
    "for i in range(n):\n",
    "    if (i == root_arr[i]):\n",
    "        res.append(count[i])\n",
    "        \n",
    "#Tính tích các kích thước của mỗi đỉnh trong cây khung\n",
    "for i in range(len(res)):\n",
    "    final_ans = (round(final_ans * res[i])) % mod\n",
    "    \n",
    "# Tính n^(k-2)\n",
    "for i in range(len(res) - 2):\n",
    "    final_ans = (round(final_ans * n)) % mod\n",
    "# Xuất kết quả\n",
    "print(len(res) - 1)\n",
    "print(final_ans)"
   ]
  },
  {
   "cell_type": "markdown",
   "metadata": {},
   "source": [
    "Độ Phức tạp: $O(N.log^*(N))$\n",
    "<br>\n",
    "Trong đó: $log^*()$ khác $log()$, khi số lớn $O(log^*(n))$ tiệm cận đến $O(1)$"
   ]
  },
  {
   "cell_type": "code",
   "execution_count": null,
   "metadata": {},
   "outputs": [],
   "source": []
  }
 ],
 "metadata": {
  "kernelspec": {
   "display_name": "Python 3",
   "language": "python",
   "name": "python3"
  },
  "language_info": {
   "codemirror_mode": {
    "name": "ipython",
    "version": 3
   },
   "file_extension": ".py",
   "mimetype": "text/x-python",
   "name": "python",
   "nbconvert_exporter": "python",
   "pygments_lexer": "ipython3",
   "version": "3.8.3"
  }
 },
 "nbformat": 4,
 "nbformat_minor": 4
}
