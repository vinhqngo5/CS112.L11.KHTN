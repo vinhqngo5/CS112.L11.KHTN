{
  "nbformat": 4,
  "nbformat_minor": 0,
  "metadata": {
    "colab": {
      "name": "PhanThuong.ipynb",
      "provenance": [],
      "collapsed_sections": [],
      "authorship_tag": "ABX9TyNPnqJRXcO6OGYRGSuHqmpL",
      "include_colab_link": true
    },
    "kernelspec": {
      "name": "python3",
      "display_name": "Python 3"
    }
  },
  "cells": [
    {
      "cell_type": "markdown",
      "metadata": {
        "id": "view-in-github",
        "colab_type": "text"
      },
      "source": [
        "<a href=\"https://colab.research.google.com/github/vinhqngo5/CS112.L11.KHTN_Team011/blob/master/week12/Docs/PhanThuong.ipynb\" target=\"_parent\"><img src=\"https://colab.research.google.com/assets/colab-badge.svg\" alt=\"Open In Colab\"/></a>"
      ]
    },
    {
      "cell_type": "markdown",
      "metadata": {
        "id": "KvC2YR54j9Ww"
      },
      "source": [
        "<h1>NHÓM 11</h1>\r\n",
        "<h1>ĐỀ BÀI: PHẦN THƯỞNG</h1>\r\n",
        "\r\n",
        "Harry và Hermione thắng cuộc trong một trò chơi truyền hình và bây giờ là giai đoạn trao thưởng. Quy tắc trao thưởng là như sau: có $n$ phần thưởng xếp thành một hàng dài, đánh số từ 1 đến $n$. Tùy thuộc vào số điểm đã đạt được của cặp chơi, người dẫn chương trình sẽ nói một số $k (1 ≤ k ≤ n/3)$. Một người chơi sẽ chọn cho mình $k$ phần thưởng xếp liên tiếp nhau, người thứ hai cũng sẽ chọn cho mình $k$ phần thưởng xếp liên tiếp nhau trong số còn lại. Hermione là nữ nên được ưu tiên chọn trước.\r\n",
        "\r\n",
        "Trò chơi đã kết thúc. Bây giờ không cần phải đồng tâm hiệp lực. Hermione vẫn còn rất giận Harry về một câu nói vô tâm mà chắc bây giờ Harry cũng không nhớ là mình nói cái gì và khi nào. Hermione hiểu rất rõ giá trị mỗi phần thưởng đối với Harry, cụ thể là phần thưởng thứ $i$ sẽ có giá trị $a_i$, $i= 1 ÷ n$ và quyết định cách chọn của mình sao cho tổng giá trị phần thưởng mà Harry có thể đạt được càng nhỏ càng tốt. Về tổng giá trị phần thưởng của mình, Hermione không mảy may quan tâm!\r\n",
        "\r\n",
        "Hãy xác định $x$ – tổng nhỏ nhất giá trị phần thưởng mà Hermione có thể chọn để Harry không có cách chọn phần thưởng với tổng giá trị lớn hơn x.\r\n",
        "\r\n",
        "<b>Dữ liệu:</b> Vào từ thiết bị nhập chuẩn \r\n",
        "<ul>\r\n",
        "<li>Dòng đầu tiên chứa 2 số nguyên $n$ và $k$ $(3 ≤ n ≤ 10^5, 1 ≤ k ≤ n/3)$ </li>\r\n",
        "<li>Dòng thứ 2 chứa $n$ số nguyên $a_1, a_2, . . ., a_n$ $(1 ≤ a_i ≤ 10^9, i = 1 ÷ n)$ </li>\r\n",
        "</ul>\r\n",
        "\r\n",
        "<b>Kết quả:</b> Đưa ra thiết bị xuất chuẩn số nguyên $x$.\r\n",
        "\r\n",
        "<img src=\"images/PhanThuong.JPG\">\r\n",
        "\r\n",
        "<h2>1. Abstraction</h2>\r\n",
        "\r\n",
        "Cho dãy số $a_1,a_2,...a_n$, chọn $k$ số liên tiếp $(1 ≤ k ≤ n/3)$ sao cho tổng giá trị $(x)$ các số được chọn là nhỏ nhất và không thể chọn $k$ số liên tiếp nào khác có tổng lớn hơn $x$."
      ]
    }
  ]
}