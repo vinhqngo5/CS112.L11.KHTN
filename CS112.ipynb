{
  "nbformat": 4,
  "nbformat_minor": 0,
  "metadata": {
    "colab": {
      "name": "CS112.ipynb",
      "provenance": [],
      "authorship_tag": "ABX9TyNSxbEEyghE7blYMqJ7Hnq2",
      "include_colab_link": true
    },
    "kernelspec": {
      "name": "python3",
      "display_name": "Python 3"
    }
  },
  "cells": [
    {
      "cell_type": "markdown",
      "metadata": {
        "id": "view-in-github",
        "colab_type": "text"
      },
      "source": [
        "<a href=\"https://colab.research.google.com/github/vinhqngo5/CS112.L11.KHTN_Team011/blob/master/CS112.ipynb\" target=\"_parent\"><img src=\"https://colab.research.google.com/assets/colab-badge.svg\" alt=\"Open In Colab\"/></a>"
      ]
    },
    {
      "cell_type": "markdown",
      "metadata": {
        "id": "iKXSDJcUkVVd",
        "colab_type": "text"
      },
      "source": [
        "<h3> <b> Problems </b> </h3>\n",
        "\n",
        "\n",
        "<h3> <b> Abstraction </b> </h3>\n",
        "\n",
        "Tìm \\\\( k \\\\) lớn nhất sao cho \\\\( (x_1, y_1), (x_2, y_2),.. (x_k, y_k) \\\\) thoả mãn điều kiện \\\\( \\alpha_1 < \\frac{y_{i+1} - y_i}{x_{i+1} - x_i} < \\alpha_2, 1 \\leq i < k \\\\) \n",
        "\n",
        "<h3> <b> Pattern Recognition </b> </h3>\n",
        "\n",
        "Bằng các trạng thái không trùng lặp được liên kết với nhau bằng mối quan hệ \\\\( \\alpha_1 < \\frac{y_{i+1} - y_i}{x_{i+1} - x_i} < \\alpha_2, 1 \\leq i < k \\\\), ta có thể nhận ra đây là một dạng bài toán điển hình của <b>quy hoạch động</b> khi nhắc đến chuỗi con không liên tiếp và tối ưu hoá độ dài của nó.\n",
        "\n",
        "<h3> <b> Algorithm Design </b> </h3>\n",
        "\n",
        "a.Cách tiếp cận sơ khai \n",
        "\n",
        "Vì đây là kiểu bài quy hoạch động điển hình, ta có thể gọi \\\\( dp[i] \\\\) là độ dài dãy con dài nhất khi xét đến vị trí i của tập điểm chứa điểm i đó.\n",
        "\n",
        "Từ cách gọi trên, ta có được sự tương quan giữa 2 trạng thái:\n",
        "<blockquote>\n",
        "\\\\( dp[i] = max(dp[j]) + 1, \\forall j < i,  \\alpha_1 < \\frac{y_{i} - y_j}{x_{i } - x_j} < \\alpha_2\\\\) </blockquote>\n",
        "\n",
        "Tuy nhiên việc tối ưu bài toán lớn thông qua những bài toán con cần phải có một thứ tự nhất định. Ở đây ta có nhận xét các tập điểm nhìn thấy nhau luôn có hoành độ x tăng dần (điều này luôn đúng khi hệ số góc \\\\( \\alpha_1 \\geq 0\\\\)). Vì thế ta cần phải sắp xếp tập điểm theo độ tăng dần của x để có được thứ tự tối ưu hợp lý.\n",
        "\n",
        "Ta có thể hình dung qua đoạn pseudocode như sau:\n",
        "\n",
        "```\n",
        "procedure Dynamic_Programming:\n",
        "begin\n",
        "    sort(x, y)\n",
        "    for i:=1 to n do \n",
        "      for j:=1 to i-1 do \n",
        "    begin\n",
        "        angular = (y[i] - y[j]) / (x[i] - x[j])\n",
        "        if (alpha1 < angular < alpha2) then\n",
        "            dp[i] = max(dp[i], dp[j] + 1)\n",
        "    end\n",
        "    return max(dp)\n",
        "end\n",
        "```\n",
        "Về mặt thời gian, cách tiếp cận này không đủ đáp ứng giới hạn bài toán và chỉ dừng lại ở độ phức tạp rất lớn \\\\( \\Rightarrow O(N^2) \\\\)\n",
        "\n",
        "Code đầy đủ cho trường hợp \\\\( O(N^2) \\\\):\n",
        "\n",
        "\n",
        "\n",
        "\n"
      ]
    },
    {
      "cell_type": "markdown",
      "metadata": {
        "id": "qh2vK1--yMmT",
        "colab_type": "text"
      },
      "source": [
        "1. Nhập input"
      ]
    },
    {
      "cell_type": "code",
      "metadata": {
        "id": "68lUxMz0xtbo",
        "colab_type": "code",
        "colab": {}
      },
      "source": [
        "n = int(input())\n",
        "a, c = input().split()\n",
        "a, b = [int(x) for x in a.split('/')]\n",
        "c, d = [int(x) for x in c.split('/')]\n",
        "\n",
        "data = [[0, 0]] * (n+1)\n",
        "\n",
        "for i in range(n):\n",
        "      X, Y = input().split()\n",
        "      X, Y = int(X), int(Y)\n",
        "      data[i] = [X, Y]"
      ],
      "execution_count": null,
      "outputs": []
    },
    {
      "cell_type": "markdown",
      "metadata": {
        "id": "AokP1-2-yBzf",
        "colab_type": "text"
      },
      "source": [
        "2. Hàm \\\\( check(a, b, m, n, x, y) \\\\)  kiểm tra hệ số góc đường thẳng tạo bởi hai điểm \\\\( a\\\\) và \\\\( b\u001d\\\\) có nằm  giữa hai góc \\\\(\\frac{m}{n}\\\\) và \\\\( \\frac{x}{y} \\\\) hay không."
      ]
    },
    {
      "cell_type": "code",
      "metadata": {
        "id": "8DEdBqSfyAjL",
        "colab_type": "code",
        "colab": {}
      },
      "source": [
        "def check(a, b, m, n, x, y):\n",
        "      temp = (a[1] - b[1]) / (a[0] - b[0])\n",
        "      if (y == 0):\n",
        "            y = 100000\n",
        "      else:\n",
        "            y = x / y\n",
        "      x = m / n\n",
        "      return x < temp < y"
      ],
      "execution_count": null,
      "outputs": []
    },
    {
      "cell_type": "markdown",
      "metadata": {
        "id": "gIqp4JIBy5y9",
        "colab_type": "text"
      },
      "source": [
        "3. Thực thi lại pseudocode đã nêu trên"
      ]
    },
    {
      "cell_type": "code",
      "metadata": {
        "id": "pv1O3zjXy3n_",
        "colab_type": "code",
        "colab": {}
      },
      "source": [
        "data = sorted(data, reverse=True)\n",
        "dp = [0] * (n+1) \n",
        "for i in range(1, n+1):\n",
        "      for j in range(i):\n",
        "            if check(data[i], data[j], a, b, c , d):\n",
        "                  dp[i] = max(dp[i], dp[j] + 1)\n",
        "print(dp[n])"
      ],
      "execution_count": null,
      "outputs": []
    },
    {
      "cell_type": "markdown",
      "metadata": {
        "id": "rw7VVTexxkGF",
        "colab_type": "text"
      },
      "source": [
        "b. Cách tiếp cận tối ưu"
      ]
    }
  ]
}